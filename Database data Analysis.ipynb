{
 "cells": [
  {
   "cell_type": "code",
   "execution_count": 1,
   "id": "d3323344-582b-48d0-96ca-e8212c005beb",
   "metadata": {},
   "outputs": [],
   "source": [
    "import matplotlib.pyplot as plt\n",
    "import seaborn as sns\n",
    "import mysql.connector\n",
    "import pandas as pd"
   ]
  },
  {
   "cell_type": "code",
   "execution_count": 2,
   "id": "28cd31a4-eb9a-4393-82ac-ce1e2a301140",
   "metadata": {},
   "outputs": [],
   "source": [
    "mydb = mysql.connector.connect(host=\"localhost\", user=\"root\", password=\"Gowtham$3\", database=\"presenting\")\n",
    "cursor = mydb.cursor()"
   ]
  },
  {
   "cell_type": "code",
   "execution_count": 3,
   "id": "1ea0a15a-13d7-471b-851e-282ac0489c52",
   "metadata": {},
   "outputs": [],
   "source": [
    "data = \"SELECT * FROM collecting_data\""
   ]
  },
  {
   "cell_type": "code",
   "execution_count": 4,
   "id": "8f4c2377-8788-4dfa-96a6-148d328a18e4",
   "metadata": {},
   "outputs": [],
   "source": [
    "cursor.execute(data)"
   ]
  },
  {
   "cell_type": "code",
   "execution_count": 5,
   "id": "6c0ce56d-c64f-4a69-aa52-9be5340d0977",
   "metadata": {},
   "outputs": [
    {
     "name": "stdout",
     "output_type": "stream",
     "text": [
      "Defaulting to user installation because normal site-packages is not writeable\n",
      "Requirement already satisfied: mysql-connector-python in c:\\users\\gowtham r\\appdata\\roaming\\python\\python311\\site-packages (8.4.0)\n",
      "Requirement already satisfied: pandas in c:\\users\\gowtham r\\appdata\\roaming\\python\\python311\\site-packages (2.0.2)\n",
      "Requirement already satisfied: python-dateutil>=2.8.2 in c:\\users\\gowtham r\\appdata\\roaming\\python\\python311\\site-packages (from pandas) (2.8.2)\n",
      "Requirement already satisfied: pytz>=2020.1 in c:\\users\\gowtham r\\appdata\\roaming\\python\\python311\\site-packages (from pandas) (2023.3)\n",
      "Requirement already satisfied: tzdata>=2022.1 in c:\\users\\gowtham r\\appdata\\roaming\\python\\python311\\site-packages (from pandas) (2023.3)\n",
      "Requirement already satisfied: numpy>=1.21.0 in c:\\users\\gowtham r\\appdata\\roaming\\python\\python311\\site-packages (from pandas) (1.24.3)\n",
      "Requirement already satisfied: six>=1.5 in c:\\users\\gowtham r\\appdata\\roaming\\python\\python311\\site-packages (from python-dateutil>=2.8.2->pandas) (1.16.0)\n",
      "Note: you may need to restart the kernel to use updated packages.\n"
     ]
    }
   ],
   "source": [
    "pip install mysql-connector-python pandas"
   ]
  },
  {
   "cell_type": "code",
   "execution_count": 6,
   "id": "79bac1e6-18c2-44fb-8139-3f26ec020e01",
   "metadata": {},
   "outputs": [],
   "source": [
    "df = pd.DataFrame(cursor.fetchall(), columns=[i[0] for i in cursor.description])"
   ]
  },
  {
   "cell_type": "code",
   "execution_count": 7,
   "id": "5542d9e8-150b-4575-b66b-bbf5b4b83f04",
   "metadata": {},
   "outputs": [
    {
     "data": {
      "text/html": [
       "<div>\n",
       "<style scoped>\n",
       "    .dataframe tbody tr th:only-of-type {\n",
       "        vertical-align: middle;\n",
       "    }\n",
       "\n",
       "    .dataframe tbody tr th {\n",
       "        vertical-align: top;\n",
       "    }\n",
       "\n",
       "    .dataframe thead th {\n",
       "        text-align: right;\n",
       "    }\n",
       "</style>\n",
       "<table border=\"1\" class=\"dataframe\">\n",
       "  <thead>\n",
       "    <tr style=\"text-align: right;\">\n",
       "      <th></th>\n",
       "      <th>Gender</th>\n",
       "      <th>Age</th>\n",
       "      <th>FaceCount</th>\n",
       "    </tr>\n",
       "  </thead>\n",
       "  <tbody>\n",
       "    <tr>\n",
       "      <th>0</th>\n",
       "      <td>Male</td>\n",
       "      <td>8-12</td>\n",
       "      <td>23</td>\n",
       "    </tr>\n",
       "    <tr>\n",
       "      <th>1</th>\n",
       "      <td>Male</td>\n",
       "      <td>8-12</td>\n",
       "      <td>23</td>\n",
       "    </tr>\n",
       "    <tr>\n",
       "      <th>2</th>\n",
       "      <td>Male</td>\n",
       "      <td>8-12</td>\n",
       "      <td>23</td>\n",
       "    </tr>\n",
       "    <tr>\n",
       "      <th>3</th>\n",
       "      <td>Male</td>\n",
       "      <td>8-12</td>\n",
       "      <td>23</td>\n",
       "    </tr>\n",
       "    <tr>\n",
       "      <th>4</th>\n",
       "      <td>Male</td>\n",
       "      <td>8-12</td>\n",
       "      <td>23</td>\n",
       "    </tr>\n",
       "    <tr>\n",
       "      <th>...</th>\n",
       "      <td>...</td>\n",
       "      <td>...</td>\n",
       "      <td>...</td>\n",
       "    </tr>\n",
       "    <tr>\n",
       "      <th>803</th>\n",
       "      <td>Male</td>\n",
       "      <td>25-32</td>\n",
       "      <td>4</td>\n",
       "    </tr>\n",
       "    <tr>\n",
       "      <th>804</th>\n",
       "      <td>Male</td>\n",
       "      <td>38-43</td>\n",
       "      <td>1</td>\n",
       "    </tr>\n",
       "    <tr>\n",
       "      <th>805</th>\n",
       "      <td>Male</td>\n",
       "      <td>8-12</td>\n",
       "      <td>23</td>\n",
       "    </tr>\n",
       "    <tr>\n",
       "      <th>806</th>\n",
       "      <td>Male</td>\n",
       "      <td>8-12</td>\n",
       "      <td>23</td>\n",
       "    </tr>\n",
       "    <tr>\n",
       "      <th>807</th>\n",
       "      <td>Male</td>\n",
       "      <td>8-12</td>\n",
       "      <td>5</td>\n",
       "    </tr>\n",
       "  </tbody>\n",
       "</table>\n",
       "<p>808 rows × 3 columns</p>\n",
       "</div>"
      ],
      "text/plain": [
       "    Gender    Age  FaceCount\n",
       "0     Male   8-12         23\n",
       "1     Male   8-12         23\n",
       "2     Male   8-12         23\n",
       "3     Male   8-12         23\n",
       "4     Male   8-12         23\n",
       "..     ...    ...        ...\n",
       "803   Male  25-32          4\n",
       "804   Male  38-43          1\n",
       "805   Male   8-12         23\n",
       "806   Male   8-12         23\n",
       "807   Male   8-12          5\n",
       "\n",
       "[808 rows x 3 columns]"
      ]
     },
     "metadata": {},
     "output_type": "display_data"
    }
   ],
   "source": [
    "display(df)"
   ]
  },
  {
   "cell_type": "code",
   "execution_count": 8,
   "id": "e105257f-7415-4375-93ea-133c0fe0c0be",
   "metadata": {},
   "outputs": [
    {
     "data": {
      "text/plain": [
       "(808, 3)"
      ]
     },
     "execution_count": 8,
     "metadata": {},
     "output_type": "execute_result"
    }
   ],
   "source": [
    "df.shape"
   ]
  },
  {
   "cell_type": "code",
   "execution_count": 9,
   "id": "e7f7aeab-4b23-4bca-a5ba-bd0235d6c854",
   "metadata": {},
   "outputs": [
    {
     "data": {
      "text/html": [
       "<div>\n",
       "<style scoped>\n",
       "    .dataframe tbody tr th:only-of-type {\n",
       "        vertical-align: middle;\n",
       "    }\n",
       "\n",
       "    .dataframe tbody tr th {\n",
       "        vertical-align: top;\n",
       "    }\n",
       "\n",
       "    .dataframe thead th {\n",
       "        text-align: right;\n",
       "    }\n",
       "</style>\n",
       "<table border=\"1\" class=\"dataframe\">\n",
       "  <thead>\n",
       "    <tr style=\"text-align: right;\">\n",
       "      <th></th>\n",
       "      <th>Gender</th>\n",
       "      <th>Age</th>\n",
       "      <th>FaceCount</th>\n",
       "    </tr>\n",
       "  </thead>\n",
       "  <tbody>\n",
       "    <tr>\n",
       "      <th>0</th>\n",
       "      <td>Male</td>\n",
       "      <td>8-12</td>\n",
       "      <td>23</td>\n",
       "    </tr>\n",
       "    <tr>\n",
       "      <th>1</th>\n",
       "      <td>Male</td>\n",
       "      <td>8-12</td>\n",
       "      <td>23</td>\n",
       "    </tr>\n",
       "    <tr>\n",
       "      <th>2</th>\n",
       "      <td>Male</td>\n",
       "      <td>8-12</td>\n",
       "      <td>23</td>\n",
       "    </tr>\n",
       "    <tr>\n",
       "      <th>3</th>\n",
       "      <td>Male</td>\n",
       "      <td>8-12</td>\n",
       "      <td>23</td>\n",
       "    </tr>\n",
       "    <tr>\n",
       "      <th>4</th>\n",
       "      <td>Male</td>\n",
       "      <td>8-12</td>\n",
       "      <td>23</td>\n",
       "    </tr>\n",
       "  </tbody>\n",
       "</table>\n",
       "</div>"
      ],
      "text/plain": [
       "  Gender   Age  FaceCount\n",
       "0   Male  8-12         23\n",
       "1   Male  8-12         23\n",
       "2   Male  8-12         23\n",
       "3   Male  8-12         23\n",
       "4   Male  8-12         23"
      ]
     },
     "execution_count": 9,
     "metadata": {},
     "output_type": "execute_result"
    }
   ],
   "source": [
    "df.head()"
   ]
  },
  {
   "cell_type": "code",
   "execution_count": 10,
   "id": "6bb6ecbd-8f1b-4b9b-a250-f81a50bf1425",
   "metadata": {},
   "outputs": [
    {
     "name": "stdout",
     "output_type": "stream",
     "text": [
      "<class 'pandas.core.frame.DataFrame'>\n",
      "RangeIndex: 808 entries, 0 to 807\n",
      "Data columns (total 3 columns):\n",
      " #   Column     Non-Null Count  Dtype \n",
      "---  ------     --------------  ----- \n",
      " 0   Gender     808 non-null    object\n",
      " 1   Age        808 non-null    object\n",
      " 2   FaceCount  808 non-null    int64 \n",
      "dtypes: int64(1), object(2)\n",
      "memory usage: 19.1+ KB\n"
     ]
    }
   ],
   "source": [
    "df.info()"
   ]
  },
  {
   "cell_type": "code",
   "execution_count": 11,
   "id": "8998d3c4-816b-4a2a-a781-8b6f5346cfa2",
   "metadata": {},
   "outputs": [
    {
     "data": {
      "text/html": [
       "<div>\n",
       "<style scoped>\n",
       "    .dataframe tbody tr th:only-of-type {\n",
       "        vertical-align: middle;\n",
       "    }\n",
       "\n",
       "    .dataframe tbody tr th {\n",
       "        vertical-align: top;\n",
       "    }\n",
       "\n",
       "    .dataframe thead th {\n",
       "        text-align: right;\n",
       "    }\n",
       "</style>\n",
       "<table border=\"1\" class=\"dataframe\">\n",
       "  <thead>\n",
       "    <tr style=\"text-align: right;\">\n",
       "      <th></th>\n",
       "      <th>FaceCount</th>\n",
       "    </tr>\n",
       "  </thead>\n",
       "  <tbody>\n",
       "    <tr>\n",
       "      <th>count</th>\n",
       "      <td>808.000000</td>\n",
       "    </tr>\n",
       "    <tr>\n",
       "      <th>mean</th>\n",
       "      <td>12.915842</td>\n",
       "    </tr>\n",
       "    <tr>\n",
       "      <th>std</th>\n",
       "      <td>10.012154</td>\n",
       "    </tr>\n",
       "    <tr>\n",
       "      <th>min</th>\n",
       "      <td>1.000000</td>\n",
       "    </tr>\n",
       "    <tr>\n",
       "      <th>25%</th>\n",
       "      <td>4.000000</td>\n",
       "    </tr>\n",
       "    <tr>\n",
       "      <th>50%</th>\n",
       "      <td>4.000000</td>\n",
       "    </tr>\n",
       "    <tr>\n",
       "      <th>75%</th>\n",
       "      <td>23.000000</td>\n",
       "    </tr>\n",
       "    <tr>\n",
       "      <th>max</th>\n",
       "      <td>23.000000</td>\n",
       "    </tr>\n",
       "  </tbody>\n",
       "</table>\n",
       "</div>"
      ],
      "text/plain": [
       "        FaceCount\n",
       "count  808.000000\n",
       "mean    12.915842\n",
       "std     10.012154\n",
       "min      1.000000\n",
       "25%      4.000000\n",
       "50%      4.000000\n",
       "75%     23.000000\n",
       "max     23.000000"
      ]
     },
     "execution_count": 11,
     "metadata": {},
     "output_type": "execute_result"
    }
   ],
   "source": [
    "df.describe()"
   ]
  },
  {
   "cell_type": "code",
   "execution_count": 12,
   "id": "e413f77b-22bb-4c5f-b771-0e4e8dfcb0a5",
   "metadata": {},
   "outputs": [],
   "source": [
    "male = df[df['Gender']=='Male']"
   ]
  },
  {
   "cell_type": "code",
   "execution_count": 13,
   "id": "3156a27d-f076-4b09-a43e-750683676445",
   "metadata": {},
   "outputs": [
    {
     "data": {
      "text/plain": [
       "(793, 3)"
      ]
     },
     "execution_count": 13,
     "metadata": {},
     "output_type": "execute_result"
    }
   ],
   "source": [
    "male.shape"
   ]
  },
  {
   "cell_type": "code",
   "execution_count": 14,
   "id": "26eff9ba-5544-4e81-be28-25392b3acb5d",
   "metadata": {},
   "outputs": [],
   "source": [
    "female = df[df['Gender']=='Female']"
   ]
  },
  {
   "cell_type": "code",
   "execution_count": 15,
   "id": "3a0d97b6-ddcf-4bfa-b4c2-6f7f0de2c3fb",
   "metadata": {},
   "outputs": [
    {
     "data": {
      "text/html": [
       "<div>\n",
       "<style scoped>\n",
       "    .dataframe tbody tr th:only-of-type {\n",
       "        vertical-align: middle;\n",
       "    }\n",
       "\n",
       "    .dataframe tbody tr th {\n",
       "        vertical-align: top;\n",
       "    }\n",
       "\n",
       "    .dataframe thead th {\n",
       "        text-align: right;\n",
       "    }\n",
       "</style>\n",
       "<table border=\"1\" class=\"dataframe\">\n",
       "  <thead>\n",
       "    <tr style=\"text-align: right;\">\n",
       "      <th></th>\n",
       "      <th>Gender</th>\n",
       "      <th>Age</th>\n",
       "      <th>FaceCount</th>\n",
       "    </tr>\n",
       "  </thead>\n",
       "  <tbody>\n",
       "    <tr>\n",
       "      <th>76</th>\n",
       "      <td>Female</td>\n",
       "      <td>25-32</td>\n",
       "      <td>1</td>\n",
       "    </tr>\n",
       "    <tr>\n",
       "      <th>160</th>\n",
       "      <td>Female</td>\n",
       "      <td>25-32</td>\n",
       "      <td>1</td>\n",
       "    </tr>\n",
       "    <tr>\n",
       "      <th>161</th>\n",
       "      <td>Female</td>\n",
       "      <td>25-32</td>\n",
       "      <td>1</td>\n",
       "    </tr>\n",
       "    <tr>\n",
       "      <th>162</th>\n",
       "      <td>Female</td>\n",
       "      <td>25-32</td>\n",
       "      <td>1</td>\n",
       "    </tr>\n",
       "    <tr>\n",
       "      <th>174</th>\n",
       "      <td>Female</td>\n",
       "      <td>25-32</td>\n",
       "      <td>1</td>\n",
       "    </tr>\n",
       "    <tr>\n",
       "      <th>175</th>\n",
       "      <td>Female</td>\n",
       "      <td>38-43</td>\n",
       "      <td>1</td>\n",
       "    </tr>\n",
       "    <tr>\n",
       "      <th>176</th>\n",
       "      <td>Female</td>\n",
       "      <td>38-43</td>\n",
       "      <td>1</td>\n",
       "    </tr>\n",
       "    <tr>\n",
       "      <th>202</th>\n",
       "      <td>Female</td>\n",
       "      <td>8-12</td>\n",
       "      <td>1</td>\n",
       "    </tr>\n",
       "    <tr>\n",
       "      <th>203</th>\n",
       "      <td>Female</td>\n",
       "      <td>8-12</td>\n",
       "      <td>1</td>\n",
       "    </tr>\n",
       "    <tr>\n",
       "      <th>204</th>\n",
       "      <td>Female</td>\n",
       "      <td>8-12</td>\n",
       "      <td>1</td>\n",
       "    </tr>\n",
       "    <tr>\n",
       "      <th>219</th>\n",
       "      <td>Female</td>\n",
       "      <td>4-6</td>\n",
       "      <td>1</td>\n",
       "    </tr>\n",
       "    <tr>\n",
       "      <th>225</th>\n",
       "      <td>Female</td>\n",
       "      <td>15-20</td>\n",
       "      <td>1</td>\n",
       "    </tr>\n",
       "    <tr>\n",
       "      <th>245</th>\n",
       "      <td>Female</td>\n",
       "      <td>25-32</td>\n",
       "      <td>1</td>\n",
       "    </tr>\n",
       "    <tr>\n",
       "      <th>552</th>\n",
       "      <td>Female</td>\n",
       "      <td>25-32</td>\n",
       "      <td>1</td>\n",
       "    </tr>\n",
       "    <tr>\n",
       "      <th>555</th>\n",
       "      <td>Female</td>\n",
       "      <td>25-32</td>\n",
       "      <td>1</td>\n",
       "    </tr>\n",
       "  </tbody>\n",
       "</table>\n",
       "</div>"
      ],
      "text/plain": [
       "     Gender    Age  FaceCount\n",
       "76   Female  25-32          1\n",
       "160  Female  25-32          1\n",
       "161  Female  25-32          1\n",
       "162  Female  25-32          1\n",
       "174  Female  25-32          1\n",
       "175  Female  38-43          1\n",
       "176  Female  38-43          1\n",
       "202  Female   8-12          1\n",
       "203  Female   8-12          1\n",
       "204  Female   8-12          1\n",
       "219  Female    4-6          1\n",
       "225  Female  15-20          1\n",
       "245  Female  25-32          1\n",
       "552  Female  25-32          1\n",
       "555  Female  25-32          1"
      ]
     },
     "execution_count": 15,
     "metadata": {},
     "output_type": "execute_result"
    }
   ],
   "source": [
    "female"
   ]
  },
  {
   "cell_type": "code",
   "execution_count": 16,
   "id": "931db366-81a5-4bfa-b8ce-d1839309b0dd",
   "metadata": {},
   "outputs": [
    {
     "data": {
      "text/plain": [
       "(15, 3)"
      ]
     },
     "execution_count": 16,
     "metadata": {},
     "output_type": "execute_result"
    }
   ],
   "source": [
    "female.shape"
   ]
  },
  {
   "cell_type": "code",
   "execution_count": 17,
   "id": "7c97049e-65d9-4218-b315-c7d8215e0b9a",
   "metadata": {},
   "outputs": [],
   "source": [
    "male_age1 = male[male['Age']=='8-12']"
   ]
  },
  {
   "cell_type": "code",
   "execution_count": 18,
   "id": "b400172b-8c0b-4ee0-b0b2-7bc85d79a6ab",
   "metadata": {},
   "outputs": [
    {
     "data": {
      "text/html": [
       "<div>\n",
       "<style scoped>\n",
       "    .dataframe tbody tr th:only-of-type {\n",
       "        vertical-align: middle;\n",
       "    }\n",
       "\n",
       "    .dataframe tbody tr th {\n",
       "        vertical-align: top;\n",
       "    }\n",
       "\n",
       "    .dataframe thead th {\n",
       "        text-align: right;\n",
       "    }\n",
       "</style>\n",
       "<table border=\"1\" class=\"dataframe\">\n",
       "  <thead>\n",
       "    <tr style=\"text-align: right;\">\n",
       "      <th></th>\n",
       "      <th>Gender</th>\n",
       "      <th>Age</th>\n",
       "      <th>FaceCount</th>\n",
       "    </tr>\n",
       "  </thead>\n",
       "  <tbody>\n",
       "    <tr>\n",
       "      <th>0</th>\n",
       "      <td>Male</td>\n",
       "      <td>8-12</td>\n",
       "      <td>23</td>\n",
       "    </tr>\n",
       "    <tr>\n",
       "      <th>1</th>\n",
       "      <td>Male</td>\n",
       "      <td>8-12</td>\n",
       "      <td>23</td>\n",
       "    </tr>\n",
       "    <tr>\n",
       "      <th>2</th>\n",
       "      <td>Male</td>\n",
       "      <td>8-12</td>\n",
       "      <td>23</td>\n",
       "    </tr>\n",
       "    <tr>\n",
       "      <th>3</th>\n",
       "      <td>Male</td>\n",
       "      <td>8-12</td>\n",
       "      <td>23</td>\n",
       "    </tr>\n",
       "    <tr>\n",
       "      <th>4</th>\n",
       "      <td>Male</td>\n",
       "      <td>8-12</td>\n",
       "      <td>23</td>\n",
       "    </tr>\n",
       "    <tr>\n",
       "      <th>...</th>\n",
       "      <td>...</td>\n",
       "      <td>...</td>\n",
       "      <td>...</td>\n",
       "    </tr>\n",
       "    <tr>\n",
       "      <th>793</th>\n",
       "      <td>Male</td>\n",
       "      <td>8-12</td>\n",
       "      <td>23</td>\n",
       "    </tr>\n",
       "    <tr>\n",
       "      <th>796</th>\n",
       "      <td>Male</td>\n",
       "      <td>8-12</td>\n",
       "      <td>23</td>\n",
       "    </tr>\n",
       "    <tr>\n",
       "      <th>805</th>\n",
       "      <td>Male</td>\n",
       "      <td>8-12</td>\n",
       "      <td>23</td>\n",
       "    </tr>\n",
       "    <tr>\n",
       "      <th>806</th>\n",
       "      <td>Male</td>\n",
       "      <td>8-12</td>\n",
       "      <td>23</td>\n",
       "    </tr>\n",
       "    <tr>\n",
       "      <th>807</th>\n",
       "      <td>Male</td>\n",
       "      <td>8-12</td>\n",
       "      <td>5</td>\n",
       "    </tr>\n",
       "  </tbody>\n",
       "</table>\n",
       "<p>400 rows × 3 columns</p>\n",
       "</div>"
      ],
      "text/plain": [
       "    Gender   Age  FaceCount\n",
       "0     Male  8-12         23\n",
       "1     Male  8-12         23\n",
       "2     Male  8-12         23\n",
       "3     Male  8-12         23\n",
       "4     Male  8-12         23\n",
       "..     ...   ...        ...\n",
       "793   Male  8-12         23\n",
       "796   Male  8-12         23\n",
       "805   Male  8-12         23\n",
       "806   Male  8-12         23\n",
       "807   Male  8-12          5\n",
       "\n",
       "[400 rows x 3 columns]"
      ]
     },
     "execution_count": 18,
     "metadata": {},
     "output_type": "execute_result"
    }
   ],
   "source": [
    "male_age1"
   ]
  },
  {
   "cell_type": "code",
   "execution_count": 19,
   "id": "9d1af0f3-ffde-46d3-b1e2-b182d6515f6b",
   "metadata": {},
   "outputs": [
    {
     "data": {
      "text/plain": [
       "(400, 3)"
      ]
     },
     "execution_count": 19,
     "metadata": {},
     "output_type": "execute_result"
    }
   ],
   "source": [
    "male_age1.shape"
   ]
  },
  {
   "cell_type": "code",
   "execution_count": 20,
   "id": "35914a44-be97-48b5-a66b-23f4e0e4c0d4",
   "metadata": {},
   "outputs": [],
   "source": [
    "male_age2 = male[male['Age']=='25-32']"
   ]
  },
  {
   "cell_type": "code",
   "execution_count": 21,
   "id": "cd250c7b-77bf-456b-a489-747461a1abdf",
   "metadata": {},
   "outputs": [
    {
     "data": {
      "text/html": [
       "<div>\n",
       "<style scoped>\n",
       "    .dataframe tbody tr th:only-of-type {\n",
       "        vertical-align: middle;\n",
       "    }\n",
       "\n",
       "    .dataframe tbody tr th {\n",
       "        vertical-align: top;\n",
       "    }\n",
       "\n",
       "    .dataframe thead th {\n",
       "        text-align: right;\n",
       "    }\n",
       "</style>\n",
       "<table border=\"1\" class=\"dataframe\">\n",
       "  <thead>\n",
       "    <tr style=\"text-align: right;\">\n",
       "      <th></th>\n",
       "      <th>Gender</th>\n",
       "      <th>Age</th>\n",
       "      <th>FaceCount</th>\n",
       "    </tr>\n",
       "  </thead>\n",
       "  <tbody>\n",
       "    <tr>\n",
       "      <th>48</th>\n",
       "      <td>Male</td>\n",
       "      <td>25-32</td>\n",
       "      <td>4</td>\n",
       "    </tr>\n",
       "    <tr>\n",
       "      <th>49</th>\n",
       "      <td>Male</td>\n",
       "      <td>25-32</td>\n",
       "      <td>4</td>\n",
       "    </tr>\n",
       "    <tr>\n",
       "      <th>70</th>\n",
       "      <td>Male</td>\n",
       "      <td>25-32</td>\n",
       "      <td>4</td>\n",
       "    </tr>\n",
       "    <tr>\n",
       "      <th>71</th>\n",
       "      <td>Male</td>\n",
       "      <td>25-32</td>\n",
       "      <td>4</td>\n",
       "    </tr>\n",
       "    <tr>\n",
       "      <th>72</th>\n",
       "      <td>Male</td>\n",
       "      <td>25-32</td>\n",
       "      <td>4</td>\n",
       "    </tr>\n",
       "    <tr>\n",
       "      <th>...</th>\n",
       "      <td>...</td>\n",
       "      <td>...</td>\n",
       "      <td>...</td>\n",
       "    </tr>\n",
       "    <tr>\n",
       "      <th>671</th>\n",
       "      <td>Male</td>\n",
       "      <td>25-32</td>\n",
       "      <td>4</td>\n",
       "    </tr>\n",
       "    <tr>\n",
       "      <th>672</th>\n",
       "      <td>Male</td>\n",
       "      <td>25-32</td>\n",
       "      <td>4</td>\n",
       "    </tr>\n",
       "    <tr>\n",
       "      <th>673</th>\n",
       "      <td>Male</td>\n",
       "      <td>25-32</td>\n",
       "      <td>4</td>\n",
       "    </tr>\n",
       "    <tr>\n",
       "      <th>802</th>\n",
       "      <td>Male</td>\n",
       "      <td>25-32</td>\n",
       "      <td>4</td>\n",
       "    </tr>\n",
       "    <tr>\n",
       "      <th>803</th>\n",
       "      <td>Male</td>\n",
       "      <td>25-32</td>\n",
       "      <td>4</td>\n",
       "    </tr>\n",
       "  </tbody>\n",
       "</table>\n",
       "<p>274 rows × 3 columns</p>\n",
       "</div>"
      ],
      "text/plain": [
       "    Gender    Age  FaceCount\n",
       "48    Male  25-32          4\n",
       "49    Male  25-32          4\n",
       "70    Male  25-32          4\n",
       "71    Male  25-32          4\n",
       "72    Male  25-32          4\n",
       "..     ...    ...        ...\n",
       "671   Male  25-32          4\n",
       "672   Male  25-32          4\n",
       "673   Male  25-32          4\n",
       "802   Male  25-32          4\n",
       "803   Male  25-32          4\n",
       "\n",
       "[274 rows x 3 columns]"
      ]
     },
     "execution_count": 21,
     "metadata": {},
     "output_type": "execute_result"
    }
   ],
   "source": [
    "male_age2"
   ]
  },
  {
   "cell_type": "code",
   "execution_count": 22,
   "id": "b4b674df-7f35-43a2-9a70-e431d93bf264",
   "metadata": {},
   "outputs": [
    {
     "data": {
      "text/plain": [
       "(274, 3)"
      ]
     },
     "execution_count": 22,
     "metadata": {},
     "output_type": "execute_result"
    }
   ],
   "source": [
    "male_age2.shape"
   ]
  },
  {
   "cell_type": "code",
   "execution_count": 23,
   "id": "70e51322-2abb-4b96-929b-9c2abc04d9c3",
   "metadata": {},
   "outputs": [],
   "source": [
    "male_age3 = male[male['Age']=='38-43']"
   ]
  },
  {
   "cell_type": "code",
   "execution_count": 24,
   "id": "042089b7-0e6f-43d0-9390-13f822469c0b",
   "metadata": {},
   "outputs": [
    {
     "data": {
      "text/html": [
       "<div>\n",
       "<style scoped>\n",
       "    .dataframe tbody tr th:only-of-type {\n",
       "        vertical-align: middle;\n",
       "    }\n",
       "\n",
       "    .dataframe tbody tr th {\n",
       "        vertical-align: top;\n",
       "    }\n",
       "\n",
       "    .dataframe thead th {\n",
       "        text-align: right;\n",
       "    }\n",
       "</style>\n",
       "<table border=\"1\" class=\"dataframe\">\n",
       "  <thead>\n",
       "    <tr style=\"text-align: right;\">\n",
       "      <th></th>\n",
       "      <th>Gender</th>\n",
       "      <th>Age</th>\n",
       "      <th>FaceCount</th>\n",
       "    </tr>\n",
       "  </thead>\n",
       "  <tbody>\n",
       "    <tr>\n",
       "      <th>180</th>\n",
       "      <td>Male</td>\n",
       "      <td>38-43</td>\n",
       "      <td>1</td>\n",
       "    </tr>\n",
       "    <tr>\n",
       "      <th>567</th>\n",
       "      <td>Male</td>\n",
       "      <td>38-43</td>\n",
       "      <td>1</td>\n",
       "    </tr>\n",
       "    <tr>\n",
       "      <th>590</th>\n",
       "      <td>Male</td>\n",
       "      <td>38-43</td>\n",
       "      <td>1</td>\n",
       "    </tr>\n",
       "    <tr>\n",
       "      <th>591</th>\n",
       "      <td>Male</td>\n",
       "      <td>38-43</td>\n",
       "      <td>1</td>\n",
       "    </tr>\n",
       "    <tr>\n",
       "      <th>610</th>\n",
       "      <td>Male</td>\n",
       "      <td>38-43</td>\n",
       "      <td>1</td>\n",
       "    </tr>\n",
       "    <tr>\n",
       "      <th>611</th>\n",
       "      <td>Male</td>\n",
       "      <td>38-43</td>\n",
       "      <td>1</td>\n",
       "    </tr>\n",
       "    <tr>\n",
       "      <th>804</th>\n",
       "      <td>Male</td>\n",
       "      <td>38-43</td>\n",
       "      <td>1</td>\n",
       "    </tr>\n",
       "  </tbody>\n",
       "</table>\n",
       "</div>"
      ],
      "text/plain": [
       "    Gender    Age  FaceCount\n",
       "180   Male  38-43          1\n",
       "567   Male  38-43          1\n",
       "590   Male  38-43          1\n",
       "591   Male  38-43          1\n",
       "610   Male  38-43          1\n",
       "611   Male  38-43          1\n",
       "804   Male  38-43          1"
      ]
     },
     "execution_count": 24,
     "metadata": {},
     "output_type": "execute_result"
    }
   ],
   "source": [
    "male_age3"
   ]
  },
  {
   "cell_type": "code",
   "execution_count": 25,
   "id": "62fd50e0-1d58-447c-84da-b6d76e6be57c",
   "metadata": {},
   "outputs": [
    {
     "data": {
      "text/plain": [
       "(7, 3)"
      ]
     },
     "execution_count": 25,
     "metadata": {},
     "output_type": "execute_result"
    }
   ],
   "source": [
    "male_age3.shape"
   ]
  },
  {
   "cell_type": "code",
   "execution_count": 26,
   "id": "17d08eec-e08f-4c88-9fcc-a20d10404daf",
   "metadata": {},
   "outputs": [],
   "source": [
    "male_age4 = male[male['Age']=='4-6']"
   ]
  },
  {
   "cell_type": "code",
   "execution_count": 27,
   "id": "2a0a46cb-f590-467c-909b-3f81186b983e",
   "metadata": {},
   "outputs": [
    {
     "data": {
      "text/html": [
       "<div>\n",
       "<style scoped>\n",
       "    .dataframe tbody tr th:only-of-type {\n",
       "        vertical-align: middle;\n",
       "    }\n",
       "\n",
       "    .dataframe tbody tr th {\n",
       "        vertical-align: top;\n",
       "    }\n",
       "\n",
       "    .dataframe thead th {\n",
       "        text-align: right;\n",
       "    }\n",
       "</style>\n",
       "<table border=\"1\" class=\"dataframe\">\n",
       "  <thead>\n",
       "    <tr style=\"text-align: right;\">\n",
       "      <th></th>\n",
       "      <th>Gender</th>\n",
       "      <th>Age</th>\n",
       "      <th>FaceCount</th>\n",
       "    </tr>\n",
       "  </thead>\n",
       "  <tbody>\n",
       "    <tr>\n",
       "      <th>214</th>\n",
       "      <td>Male</td>\n",
       "      <td>4-6</td>\n",
       "      <td>2</td>\n",
       "    </tr>\n",
       "    <tr>\n",
       "      <th>215</th>\n",
       "      <td>Male</td>\n",
       "      <td>4-6</td>\n",
       "      <td>2</td>\n",
       "    </tr>\n",
       "    <tr>\n",
       "      <th>216</th>\n",
       "      <td>Male</td>\n",
       "      <td>4-6</td>\n",
       "      <td>2</td>\n",
       "    </tr>\n",
       "    <tr>\n",
       "      <th>217</th>\n",
       "      <td>Male</td>\n",
       "      <td>4-6</td>\n",
       "      <td>2</td>\n",
       "    </tr>\n",
       "    <tr>\n",
       "      <th>218</th>\n",
       "      <td>Male</td>\n",
       "      <td>4-6</td>\n",
       "      <td>2</td>\n",
       "    </tr>\n",
       "    <tr>\n",
       "      <th>222</th>\n",
       "      <td>Male</td>\n",
       "      <td>4-6</td>\n",
       "      <td>2</td>\n",
       "    </tr>\n",
       "    <tr>\n",
       "      <th>223</th>\n",
       "      <td>Male</td>\n",
       "      <td>4-6</td>\n",
       "      <td>2</td>\n",
       "    </tr>\n",
       "    <tr>\n",
       "      <th>224</th>\n",
       "      <td>Male</td>\n",
       "      <td>4-6</td>\n",
       "      <td>2</td>\n",
       "    </tr>\n",
       "    <tr>\n",
       "      <th>231</th>\n",
       "      <td>Male</td>\n",
       "      <td>4-6</td>\n",
       "      <td>2</td>\n",
       "    </tr>\n",
       "    <tr>\n",
       "      <th>233</th>\n",
       "      <td>Male</td>\n",
       "      <td>4-6</td>\n",
       "      <td>2</td>\n",
       "    </tr>\n",
       "    <tr>\n",
       "      <th>234</th>\n",
       "      <td>Male</td>\n",
       "      <td>4-6</td>\n",
       "      <td>2</td>\n",
       "    </tr>\n",
       "    <tr>\n",
       "      <th>241</th>\n",
       "      <td>Male</td>\n",
       "      <td>4-6</td>\n",
       "      <td>2</td>\n",
       "    </tr>\n",
       "    <tr>\n",
       "      <th>246</th>\n",
       "      <td>Male</td>\n",
       "      <td>4-6</td>\n",
       "      <td>2</td>\n",
       "    </tr>\n",
       "    <tr>\n",
       "      <th>258</th>\n",
       "      <td>Male</td>\n",
       "      <td>4-6</td>\n",
       "      <td>2</td>\n",
       "    </tr>\n",
       "    <tr>\n",
       "      <th>259</th>\n",
       "      <td>Male</td>\n",
       "      <td>4-6</td>\n",
       "      <td>2</td>\n",
       "    </tr>\n",
       "    <tr>\n",
       "      <th>260</th>\n",
       "      <td>Male</td>\n",
       "      <td>4-6</td>\n",
       "      <td>2</td>\n",
       "    </tr>\n",
       "    <tr>\n",
       "      <th>261</th>\n",
       "      <td>Male</td>\n",
       "      <td>4-6</td>\n",
       "      <td>2</td>\n",
       "    </tr>\n",
       "    <tr>\n",
       "      <th>305</th>\n",
       "      <td>Male</td>\n",
       "      <td>4-6</td>\n",
       "      <td>2</td>\n",
       "    </tr>\n",
       "    <tr>\n",
       "      <th>312</th>\n",
       "      <td>Male</td>\n",
       "      <td>4-6</td>\n",
       "      <td>2</td>\n",
       "    </tr>\n",
       "    <tr>\n",
       "      <th>316</th>\n",
       "      <td>Male</td>\n",
       "      <td>4-6</td>\n",
       "      <td>2</td>\n",
       "    </tr>\n",
       "    <tr>\n",
       "      <th>317</th>\n",
       "      <td>Male</td>\n",
       "      <td>4-6</td>\n",
       "      <td>2</td>\n",
       "    </tr>\n",
       "    <tr>\n",
       "      <th>318</th>\n",
       "      <td>Male</td>\n",
       "      <td>4-6</td>\n",
       "      <td>2</td>\n",
       "    </tr>\n",
       "    <tr>\n",
       "      <th>322</th>\n",
       "      <td>Male</td>\n",
       "      <td>4-6</td>\n",
       "      <td>2</td>\n",
       "    </tr>\n",
       "    <tr>\n",
       "      <th>326</th>\n",
       "      <td>Male</td>\n",
       "      <td>4-6</td>\n",
       "      <td>2</td>\n",
       "    </tr>\n",
       "  </tbody>\n",
       "</table>\n",
       "</div>"
      ],
      "text/plain": [
       "    Gender  Age  FaceCount\n",
       "214   Male  4-6          2\n",
       "215   Male  4-6          2\n",
       "216   Male  4-6          2\n",
       "217   Male  4-6          2\n",
       "218   Male  4-6          2\n",
       "222   Male  4-6          2\n",
       "223   Male  4-6          2\n",
       "224   Male  4-6          2\n",
       "231   Male  4-6          2\n",
       "233   Male  4-6          2\n",
       "234   Male  4-6          2\n",
       "241   Male  4-6          2\n",
       "246   Male  4-6          2\n",
       "258   Male  4-6          2\n",
       "259   Male  4-6          2\n",
       "260   Male  4-6          2\n",
       "261   Male  4-6          2\n",
       "305   Male  4-6          2\n",
       "312   Male  4-6          2\n",
       "316   Male  4-6          2\n",
       "317   Male  4-6          2\n",
       "318   Male  4-6          2\n",
       "322   Male  4-6          2\n",
       "326   Male  4-6          2"
      ]
     },
     "execution_count": 27,
     "metadata": {},
     "output_type": "execute_result"
    }
   ],
   "source": [
    "male_age4"
   ]
  },
  {
   "cell_type": "code",
   "execution_count": 28,
   "id": "781afa13-3bd3-4b26-b6ab-433b76dc9e19",
   "metadata": {},
   "outputs": [
    {
     "data": {
      "text/plain": [
       "(24, 3)"
      ]
     },
     "execution_count": 28,
     "metadata": {},
     "output_type": "execute_result"
    }
   ],
   "source": [
    "male_age4.shape"
   ]
  },
  {
   "cell_type": "code",
   "execution_count": 29,
   "id": "6495328e-c863-4024-985d-3461749bd8e1",
   "metadata": {},
   "outputs": [
    {
     "data": {
      "text/plain": [
       "{'0-2', '15-20', '25-32', '38-43', '4-6', '60-100', '8-12'}"
      ]
     },
     "execution_count": 29,
     "metadata": {},
     "output_type": "execute_result"
    }
   ],
   "source": [
    "set(df['Age'])"
   ]
  },
  {
   "cell_type": "code",
   "execution_count": 30,
   "id": "16dddf45-714b-4566-a42a-6de7a064c009",
   "metadata": {},
   "outputs": [],
   "source": [
    "male_age5 = male[male['Age']=='0-2']"
   ]
  },
  {
   "cell_type": "code",
   "execution_count": 31,
   "id": "82401ad0-1a63-4a27-beca-02a19500f8fc",
   "metadata": {},
   "outputs": [
    {
     "data": {
      "text/plain": [
       "(3, 3)"
      ]
     },
     "execution_count": 31,
     "metadata": {},
     "output_type": "execute_result"
    }
   ],
   "source": [
    "male_age5.shape"
   ]
  },
  {
   "cell_type": "code",
   "execution_count": 32,
   "id": "f9d067f9-f512-4705-b044-9519decd0410",
   "metadata": {},
   "outputs": [],
   "source": [
    "male_age6 = male[male['Age']=='15-20']"
   ]
  },
  {
   "cell_type": "code",
   "execution_count": 33,
   "id": "553e2c6c-ae71-4141-adde-55da0eb79647",
   "metadata": {},
   "outputs": [
    {
     "data": {
      "text/plain": [
       "(84, 3)"
      ]
     },
     "execution_count": 33,
     "metadata": {},
     "output_type": "execute_result"
    }
   ],
   "source": [
    "male_age6.shape"
   ]
  },
  {
   "cell_type": "code",
   "execution_count": 34,
   "id": "86b74970-88d5-4de3-b6f2-f25c3fba44c6",
   "metadata": {},
   "outputs": [],
   "source": [
    "male_age7 = male[male['Age']=='60-100']"
   ]
  },
  {
   "cell_type": "code",
   "execution_count": 35,
   "id": "11a2ef92-2e48-4f4c-a5dc-c69798f8d997",
   "metadata": {},
   "outputs": [
    {
     "data": {
      "text/plain": [
       "(1, 3)"
      ]
     },
     "execution_count": 35,
     "metadata": {},
     "output_type": "execute_result"
    }
   ],
   "source": [
    "male_age7.shape"
   ]
  },
  {
   "cell_type": "code",
   "execution_count": 36,
   "id": "646a8b7b-ec3c-48e5-a4de-2f600323ddac",
   "metadata": {},
   "outputs": [],
   "source": [
    "female_age1 = female[female['Age']=='4-6']"
   ]
  },
  {
   "cell_type": "code",
   "execution_count": 37,
   "id": "51b4165e-ac99-410d-9f50-83027c014802",
   "metadata": {},
   "outputs": [
    {
     "data": {
      "text/plain": [
       "(1, 3)"
      ]
     },
     "execution_count": 37,
     "metadata": {},
     "output_type": "execute_result"
    }
   ],
   "source": [
    "female_age1.shape"
   ]
  },
  {
   "cell_type": "code",
   "execution_count": 38,
   "id": "15990409-6884-456c-bd3d-b5e8ff6a542f",
   "metadata": {},
   "outputs": [],
   "source": [
    "female_age2 = female[female['Age']=='8-12']"
   ]
  },
  {
   "cell_type": "code",
   "execution_count": 39,
   "id": "cf16c57e-353e-41ae-8ebb-5781f1944811",
   "metadata": {},
   "outputs": [
    {
     "data": {
      "text/plain": [
       "(3, 3)"
      ]
     },
     "execution_count": 39,
     "metadata": {},
     "output_type": "execute_result"
    }
   ],
   "source": [
    "female_age2.shape"
   ]
  },
  {
   "cell_type": "code",
   "execution_count": 40,
   "id": "29b6669c-7a7d-48ee-aa10-ce02400098ad",
   "metadata": {},
   "outputs": [],
   "source": [
    "female_age3 = female[female['Age']=='15-20']"
   ]
  },
  {
   "cell_type": "code",
   "execution_count": 41,
   "id": "2837c66e-b21a-486b-98a8-606c80da396e",
   "metadata": {},
   "outputs": [
    {
     "data": {
      "text/plain": [
       "(1, 3)"
      ]
     },
     "execution_count": 41,
     "metadata": {},
     "output_type": "execute_result"
    }
   ],
   "source": [
    "female_age3.shape"
   ]
  },
  {
   "cell_type": "code",
   "execution_count": 42,
   "id": "5cc81a31-8ebc-43ec-97ee-09ebd501bd64",
   "metadata": {},
   "outputs": [],
   "source": [
    "female_age4 = female[female['Age']=='25-32']"
   ]
  },
  {
   "cell_type": "code",
   "execution_count": 43,
   "id": "85390e94-ab51-4c70-955e-31c5776d7c0a",
   "metadata": {},
   "outputs": [
    {
     "data": {
      "text/plain": [
       "(8, 3)"
      ]
     },
     "execution_count": 43,
     "metadata": {},
     "output_type": "execute_result"
    }
   ],
   "source": [
    "female_age4.shape"
   ]
  },
  {
   "cell_type": "code",
   "execution_count": 44,
   "id": "7f57fc2e-03d4-4030-8619-0bc5578d58a0",
   "metadata": {},
   "outputs": [],
   "source": [
    "female_age6 = female[female['Age']=='0-2']"
   ]
  },
  {
   "cell_type": "code",
   "execution_count": 45,
   "id": "b9795805-afa6-4962-8787-4f2c00f734a5",
   "metadata": {},
   "outputs": [
    {
     "data": {
      "text/plain": [
       "(0, 3)"
      ]
     },
     "execution_count": 45,
     "metadata": {},
     "output_type": "execute_result"
    }
   ],
   "source": [
    "female_age6.shape"
   ]
  },
  {
   "cell_type": "code",
   "execution_count": 46,
   "id": "78a0349f-f36b-4e7e-ad20-36b4e3b33840",
   "metadata": {},
   "outputs": [],
   "source": [
    "female_age7 = female[female['Age']=='60-100']"
   ]
  },
  {
   "cell_type": "code",
   "execution_count": 47,
   "id": "6bd641de-1fc0-447c-9de1-bf4248c2a089",
   "metadata": {},
   "outputs": [
    {
     "data": {
      "text/plain": [
       "(0, 3)"
      ]
     },
     "execution_count": 47,
     "metadata": {},
     "output_type": "execute_result"
    }
   ],
   "source": [
    "female_age7.shape"
   ]
  },
  {
   "cell_type": "code",
   "execution_count": 48,
   "id": "9c676c5a-2524-44be-8218-0c7195b1e670",
   "metadata": {},
   "outputs": [
    {
     "data": {
      "text/plain": [
       "<BarContainer object of 808 artists>"
      ]
     },
     "execution_count": 48,
     "metadata": {},
     "output_type": "execute_result"
    },
    {
     "data": {
      "image/png": "[encoded data removed]",
      "text/plain": [
       "<Figure size 640x480 with 1 Axes>"
      ]
     },
     "metadata": {},
     "output_type": "display_data"
    }
   ],
   "source": [
    "plt.bar(df['Gender'],df['Age'])"
   ]
  },
  {
   "cell_type": "code",
   "execution_count": 49,
   "id": "06b44ba0-e7fe-4baa-9084-b2aac0a50b3d",
   "metadata": {},
   "outputs": [],
   "source": [
    "def check(n):\n",
    "    if '0-2' in df['Age']:\n",
    "        print('2')\n",
    "    "
   ]
  },
  {
   "cell_type": "code",
   "execution_count": 50,
   "id": "c4588e16-f9ab-422c-9b1d-63ea553e2c85",
   "metadata": {},
   "outputs": [
    {
     "data": {
      "text/plain": [
       "{1, 2, 4, 5, 23}"
      ]
     },
     "execution_count": 50,
     "metadata": {},
     "output_type": "execute_result"
    }
   ],
   "source": [
    "set(df['FaceCount'])"
   ]
  },
  {
   "cell_type": "code",
   "execution_count": 51,
   "id": "1cc67625-2139-4a32-ab2d-3e9fe5443a77",
   "metadata": {},
   "outputs": [],
   "source": [
    "Age = list(df['Age'])"
   ]
  },
  {
   "cell_type": "code",
   "execution_count": 52,
   "id": "347d4639-bdc5-4ee8-aff7-6c58114c2b85",
   "metadata": {},
   "outputs": [],
   "source": [
    "Gender = df['Gender']"
   ]
  },
  {
   "cell_type": "code",
   "execution_count": 53,
   "id": "60898523-8a5b-4b47-9a30-3b139ff190a4",
   "metadata": {},
   "outputs": [],
   "source": [
    "if '0-2' in df['Age']:\n",
    "    print(mean(1,2))\n",
    "elif '15-20' in  df['Age']:\n",
    "    print(mean(15,20))\n",
    "elif '25-30' in  df['Age']:\n",
    "    print(mean(25,30))\n",
    "elif '38-43' in  df['Age']:\n",
    "    print(mean(38,43))\n",
    "elif '4-6' in  df['Age']:\n",
    "    print(mean(4,6))\n",
    "elif '60-100' in  df['Age']:\n",
    "    print(mean(60,100))\n",
    "elif '8-12' in  df['Age']:\n",
    "    print(mean(8,12))"
   ]
  },
  {
   "cell_type": "code",
   "execution_count": 54,
   "id": "6a5e3cfc-09ce-401a-9383-592c80c92c92",
   "metadata": {},
   "outputs": [
    {
     "data": {
      "text/plain": [
       "0       8-12\n",
       "1       8-12\n",
       "2       8-12\n",
       "3       8-12\n",
       "4       8-12\n",
       "       ...  \n",
       "803    25-32\n",
       "804    38-43\n",
       "805     8-12\n",
       "806     8-12\n",
       "807     8-12\n",
       "Name: Age, Length: 808, dtype: object"
      ]
     },
     "execution_count": 54,
     "metadata": {},
     "output_type": "execute_result"
    }
   ],
   "source": [
    "df['Age']"
   ]
  },
  {
   "cell_type": "code",
   "execution_count": 55,
   "id": "9bd21abc-74bf-48aa-8ce4-e35f59ce45ff",
   "metadata": {},
   "outputs": [
    {
     "name": "stdout",
     "output_type": "stream",
     "text": [
      "\n",
      "DataFrame after Label Encoding:\n",
      "    Gender    Age  FaceCount  Age_int\n",
      "0     Male   8-12         23        6\n",
      "1     Male   8-12         23        6\n",
      "2     Male   8-12         23        6\n",
      "3     Male   8-12         23        6\n",
      "4     Male   8-12         23        6\n",
      "..     ...    ...        ...      ...\n",
      "803   Male  25-32          4        2\n",
      "804   Male  38-43          1        3\n",
      "805   Male   8-12         23        6\n",
      "806   Male   8-12         23        6\n",
      "807   Male   8-12          5        6\n",
      "\n",
      "[808 rows x 4 columns]\n",
      "\n",
      "Label Mapping:\n",
      "{'0-2': 0, '15-20': 1, '25-32': 2, '38-43': 3, '4-6': 4, '60-100': 5, '8-12': 6}\n"
     ]
    }
   ],
   "source": [
    "from sklearn.preprocessing import LabelEncoder\n",
    "\n",
    "# Create a LabelEncoder object\n",
    "label_encoder = LabelEncoder()\n",
    "\n",
    "df['Age_int'] = label_encoder.fit_transform(df['Age'])\n",
    "\n",
    "print(\"\\nDataFrame after Label Encoding:\")\n",
    "print(df)\n",
    "\n",
    "label_mapping = dict(zip(label_encoder.classes_, label_encoder.transform(label_encoder.classes_)))\n",
    "print(\"\\nLabel Mapping:\")\n",
    "print(label_mapping)\n"
   ]
  },
  {
   "cell_type": "code",
   "execution_count": 56,
   "id": "11b907d7-842d-4a5a-9818-94543d7b3868",
   "metadata": {},
   "outputs": [
    {
     "name": "stdout",
     "output_type": "stream",
     "text": [
      "\n",
      "DataFrame after Label Encoding:\n",
      "    Gender    Age  FaceCount  Male_Age\n",
      "0     Male   8-12         23         6\n",
      "1     Male   8-12         23         6\n",
      "2     Male   8-12         23         6\n",
      "3     Male   8-12         23         6\n",
      "4     Male   8-12         23         6\n",
      "..     ...    ...        ...       ...\n",
      "803   Male  25-32          4         2\n",
      "804   Male  38-43          1         3\n",
      "805   Male   8-12         23         6\n",
      "806   Male   8-12         23         6\n",
      "807   Male   8-12          5         6\n",
      "\n",
      "[793 rows x 4 columns]\n"
     ]
    },
    {
     "name": "stderr",
     "output_type": "stream",
     "text": [
      "C:\\Users\\Gowtham R\\AppData\\Local\\Temp\\ipykernel_15252\\2437132345.py:3: SettingWithCopyWarning: \n",
      "A value is trying to be set on a copy of a slice from a DataFrame.\n",
      "Try using .loc[row_indexer,col_indexer] = value instead\n",
      "\n",
      "See the caveats in the documentation: https://pandas.pydata.org/pandas-docs/stable/user_guide/indexing.html#returning-a-view-versus-a-copy\n",
      "  male['Male_Age'] = label_encoder.fit_transform(male['Age'])\n"
     ]
    }
   ],
   "source": [
    "label_encoder = LabelEncoder()\n",
    "\n",
    "male['Male_Age'] = label_encoder.fit_transform(male['Age'])\n",
    "\n",
    "print(\"\\nDataFrame after Label Encoding:\")\n",
    "print(male)"
   ]
  },
  {
   "cell_type": "code",
   "execution_count": 57,
   "id": "6f601be9-6986-4274-af5d-585677b417b2",
   "metadata": {},
   "outputs": [
    {
     "name": "stdout",
     "output_type": "stream",
     "text": [
      "\n",
      "DataFrame after Label Encoding:\n",
      "     Gender    Age  FaceCount  Female_Age\n",
      "76   Female  25-32          1           1\n",
      "160  Female  25-32          1           1\n",
      "161  Female  25-32          1           1\n",
      "162  Female  25-32          1           1\n",
      "174  Female  25-32          1           1\n",
      "175  Female  38-43          1           2\n",
      "176  Female  38-43          1           2\n",
      "202  Female   8-12          1           4\n",
      "203  Female   8-12          1           4\n",
      "204  Female   8-12          1           4\n",
      "219  Female    4-6          1           3\n",
      "225  Female  15-20          1           0\n",
      "245  Female  25-32          1           1\n",
      "552  Female  25-32          1           1\n",
      "555  Female  25-32          1           1\n"
     ]
    },
    {
     "name": "stderr",
     "output_type": "stream",
     "text": [
      "C:\\Users\\Gowtham R\\AppData\\Local\\Temp\\ipykernel_15252\\766628988.py:3: SettingWithCopyWarning: \n",
      "A value is trying to be set on a copy of a slice from a DataFrame.\n",
      "Try using .loc[row_indexer,col_indexer] = value instead\n",
      "\n",
      "See the caveats in the documentation: https://pandas.pydata.org/pandas-docs/stable/user_guide/indexing.html#returning-a-view-versus-a-copy\n",
      "  female['Female_Age'] = label_encoder.fit_transform(female['Age'])\n"
     ]
    }
   ],
   "source": [
    "label_encoder = LabelEncoder()\n",
    "\n",
    "female['Female_Age'] = label_encoder.fit_transform(female['Age'])\n",
    "\n",
    "print(\"\\nDataFrame after Label Encoding:\")\n",
    "print(female)"
   ]
  },
  {
   "cell_type": "code",
   "execution_count": 58,
   "id": "bbf76bf6-6e10-4153-ad4b-8ec172d44738",
   "metadata": {},
   "outputs": [
    {
     "data": {
      "text/plain": [
       "{0, 1, 2, 3, 4, 5, 6}"
      ]
     },
     "execution_count": 58,
     "metadata": {},
     "output_type": "execute_result"
    }
   ],
   "source": [
    "set(df['Age_int'])"
   ]
  },
  {
   "cell_type": "code",
   "execution_count": 59,
   "id": "b397be1d-0bae-4a97-9168-e00d87e285ba",
   "metadata": {},
   "outputs": [
    {
     "data": {
      "text/plain": [
       "{'0-2', '15-20', '25-32', '38-43', '4-6', '60-100', '8-12'}"
      ]
     },
     "execution_count": 59,
     "metadata": {},
     "output_type": "execute_result"
    }
   ],
   "source": [
    "set(df['Age'])"
   ]
  },
  {
   "cell_type": "code",
   "execution_count": 60,
   "id": "4907c001-dfdc-40c4-9a65-b15bb619ce68",
   "metadata": {},
   "outputs": [
    {
     "data": {
      "image/png": "[encoded data removed]",
      "text/plain": [
       "<Figure size 1000x600 with 1 Axes>"
      ]
     },
     "metadata": {},
     "output_type": "display_data"
    }
   ],
   "source": [
    "plt.figure(figsize=(10, 6))\n",
    "sns.barplot(x=df['Gender'], y=df['Age_int'], hue=df['Age_int'], data=df)\n",
    "plt.grid()"
   ]
  },
  {
   "cell_type": "code",
   "execution_count": 61,
   "id": "e49f36e5-257c-4198-ad3f-2e5199b49e39",
   "metadata": {},
   "outputs": [
    {
     "data": {
      "image/png": "[encoded data removed]",
      "text/plain": [
       "<Figure size 640x480 with 1 Axes>"
      ]
     },
     "metadata": {},
     "output_type": "display_data"
    }
   ],
   "source": [
    "plt.plot(male['Male_Age'],label = \"Male\",linestyle = 'dotted',marker = \"o\")\n",
    "plt.plot(female['Female_Age'],label = \"Female\",marker = 'd')\n",
    "plt.legend()\n",
    "plt.grid()"
   ]
  },
  {
   "cell_type": "code",
   "execution_count": 62,
   "id": "21090eac-fe3f-4ba3-bafd-9e8dac41b82f",
   "metadata": {},
   "outputs": [
    {
     "data": {
      "text/plain": [
       "{'0-2', '15-20', '25-32', '38-43', '4-6', '60-100', '8-12'}"
      ]
     },
     "execution_count": 62,
     "metadata": {},
     "output_type": "execute_result"
    }
   ],
   "source": [
    "set(df['Age'])"
   ]
  },
  {
   "cell_type": "code",
   "execution_count": null,
   "id": "f46b14c9-c70c-42d7-94da-d0cb3e0ae93e",
   "metadata": {},
   "outputs": [],
   "source": []
  },
  {
   "cell_type": "code",
   "execution_count": 1,
   "id": "52898752",
   "metadata": {},
   "outputs": [],
   "source": [
    "import matplotlib.pyplot as plt\n",
    "import seaborn as sns\n",
    "import mysql.connector\n",
    "import pandas as pd"
   ]
  },
  {
   "cell_type": "code",
   "execution_count": 2,
   "id": "602f36ab",
   "metadata": {},
   "outputs": [],
   "source": [
    "mydb = mysql.connector.connect(host=\"localhost\", user=\"root\", password=\"Gowtham$3\", database=\"presenting\")\n",
    "cursor = mydb.cursor()"
   ]
  },
  {
   "cell_type": "code",
   "execution_count": 3,
   "id": "e229350c",
   "metadata": {},
   "outputs": [],
   "source": [
    "data = \"SELECT * FROM collecting_data\""
   ]
  },
  {
   "cell_type": "code",
   "execution_count": 4,
   "id": "4e7e2865",
   "metadata": {},
   "outputs": [],
   "source": [
    "cursor.execute(data)"
   ]
  },
  {
   "cell_type": "code",
   "execution_count": 5,
   "id": "9b3bab60",
   "metadata": {},
   "outputs": [
    {
     "name": "stdout",
     "output_type": "stream",
     "text": [
      "Defaulting to user installation because normal site-packages is not writeable\n",
      "Requirement already satisfied: mysql-connector-python in c:\\users\\gowtham r\\appdata\\roaming\\python\\python311\\site-packages (8.4.0)\n",
      "Requirement already satisfied: pandas in c:\\users\\gowtham r\\appdata\\roaming\\python\\python311\\site-packages (2.0.2)\n",
      "Requirement already satisfied: python-dateutil>=2.8.2 in c:\\users\\gowtham r\\appdata\\roaming\\python\\python311\\site-packages (from pandas) (2.8.2)\n",
      "Requirement already satisfied: pytz>=2020.1 in c:\\users\\gowtham r\\appdata\\roaming\\python\\python311\\site-packages (from pandas) (2023.3)\n",
      "Requirement already satisfied: tzdata>=2022.1 in c:\\users\\gowtham r\\appdata\\roaming\\python\\python311\\site-packages (from pandas) (2023.3)\n",
      "Requirement already satisfied: numpy>=1.21.0 in c:\\users\\gowtham r\\appdata\\roaming\\python\\python311\\site-packages (from pandas) (1.24.3)\n",
      "Requirement already satisfied: six>=1.5 in c:\\users\\gowtham r\\appdata\\roaming\\python\\python311\\site-packages (from python-dateutil>=2.8.2->pandas) (1.16.0)\n",
      "Note: you may need to restart the kernel to use updated packages.\n"
     ]
    }
   ],
   "source": [
    "pip install mysql-connector-python pandas"
   ]
  },
  {
   "cell_type": "code",
   "execution_count": 6,
   "id": "81bfdefd",
   "metadata": {},
   "outputs": [],
   "source": [
    "df = pd.DataFrame(cursor.fetchall(), columns=[i[0] for i in cursor.description])"
   ]
  },
  {
   "cell_type": "code",
   "execution_count": 7,
   "id": "a945480f",
   "metadata": {},
   "outputs": [
    {
     "data": {
      "text/html": [
       "<div>\n",
       "<style scoped>\n",
       "    .dataframe tbody tr th:only-of-type {\n",
       "        vertical-align: middle;\n",
       "    }\n",
       "\n",
       "    .dataframe tbody tr th {\n",
       "        vertical-align: top;\n",
       "    }\n",
       "\n",
       "    .dataframe thead th {\n",
       "        text-align: right;\n",
       "    }\n",
       "</style>\n",
       "<table border=\"1\" class=\"dataframe\">\n",
       "  <thead>\n",
       "    <tr style=\"text-align: right;\">\n",
       "      <th></th>\n",
       "      <th>Gender</th>\n",
       "      <th>Age</th>\n",
       "      <th>FaceCount</th>\n",
       "    </tr>\n",
       "  </thead>\n",
       "  <tbody>\n",
       "    <tr>\n",
       "      <th>0</th>\n",
       "      <td>Male</td>\n",
       "      <td>8-12</td>\n",
       "      <td>23</td>\n",
       "    </tr>\n",
       "    <tr>\n",
       "      <th>1</th>\n",
       "      <td>Male</td>\n",
       "      <td>8-12</td>\n",
       "      <td>23</td>\n",
       "    </tr>\n",
       "    <tr>\n",
       "      <th>2</th>\n",
       "      <td>Male</td>\n",
       "      <td>8-12</td>\n",
       "      <td>23</td>\n",
       "    </tr>\n",
       "    <tr>\n",
       "      <th>3</th>\n",
       "      <td>Male</td>\n",
       "      <td>8-12</td>\n",
       "      <td>23</td>\n",
       "    </tr>\n",
       "    <tr>\n",
       "      <th>4</th>\n",
       "      <td>Male</td>\n",
       "      <td>8-12</td>\n",
       "      <td>23</td>\n",
       "    </tr>\n",
       "    <tr>\n",
       "      <th>...</th>\n",
       "      <td>...</td>\n",
       "      <td>...</td>\n",
       "      <td>...</td>\n",
       "    </tr>\n",
       "    <tr>\n",
       "      <th>803</th>\n",
       "      <td>Male</td>\n",
       "      <td>25-32</td>\n",
       "      <td>4</td>\n",
       "    </tr>\n",
       "    <tr>\n",
       "      <th>804</th>\n",
       "      <td>Male</td>\n",
       "      <td>38-43</td>\n",
       "      <td>1</td>\n",
       "    </tr>\n",
       "    <tr>\n",
       "      <th>805</th>\n",
       "      <td>Male</td>\n",
       "      <td>8-12</td>\n",
       "      <td>23</td>\n",
       "    </tr>\n",
       "    <tr>\n",
       "      <th>806</th>\n",
       "      <td>Male</td>\n",
       "      <td>8-12</td>\n",
       "      <td>23</td>\n",
       "    </tr>\n",
       "    <tr>\n",
       "      <th>807</th>\n",
       "      <td>Male</td>\n",
       "      <td>8-12</td>\n",
       "      <td>5</td>\n",
       "    </tr>\n",
       "  </tbody>\n",
       "</table>\n",
       "<p>808 rows × 3 columns</p>\n",
       "</div>"
      ],
      "text/plain": [
       "    Gender    Age  FaceCount\n",
       "0     Male   8-12         23\n",
       "1     Male   8-12         23\n",
       "2     Male   8-12         23\n",
       "3     Male   8-12         23\n",
       "4     Male   8-12         23\n",
       "..     ...    ...        ...\n",
       "803   Male  25-32          4\n",
       "804   Male  38-43          1\n",
       "805   Male   8-12         23\n",
       "806   Male   8-12         23\n",
       "807   Male   8-12          5\n",
       "\n",
       "[808 rows x 3 columns]"
      ]
     },
     "metadata": {},
     "output_type": "display_data"
    }
   ],
   "source": [
    "display(df)"
   ]
  },
  {
   "cell_type": "code",
   "execution_count": 8,
   "id": "a2b6c404",
   "metadata": {},
   "outputs": [
    {
     "data": {
      "text/plain": [
       "(808, 3)"
      ]
     },
     "execution_count": 8,
     "metadata": {},
     "output_type": "execute_result"
    }
   ],
   "source": [
    "df.shape"
   ]
  },
  {
   "cell_type": "code",
   "execution_count": 9,
   "id": "b18bfaa2",
   "metadata": {},
   "outputs": [
    {
     "data": {
      "text/html": [
       "<div>\n",
       "<style scoped>\n",
       "    .dataframe tbody tr th:only-of-type {\n",
       "        vertical-align: middle;\n",
       "    }\n",
       "\n",
       "    .dataframe tbody tr th {\n",
       "        vertical-align: top;\n",
       "    }\n",
       "\n",
       "    .dataframe thead th {\n",
       "        text-align: right;\n",
       "    }\n",
       "</style>\n",
       "<table border=\"1\" class=\"dataframe\">\n",
       "  <thead>\n",
       "    <tr style=\"text-align: right;\">\n",
       "      <th></th>\n",
       "      <th>Gender</th>\n",
       "      <th>Age</th>\n",
       "      <th>FaceCount</th>\n",
       "    </tr>\n",
       "  </thead>\n",
       "  <tbody>\n",
       "    <tr>\n",
       "      <th>0</th>\n",
       "      <td>Male</td>\n",
       "      <td>8-12</td>\n",
       "      <td>23</td>\n",
       "    </tr>\n",
       "    <tr>\n",
       "      <th>1</th>\n",
       "      <td>Male</td>\n",
       "      <td>8-12</td>\n",
       "      <td>23</td>\n",
       "    </tr>\n",
       "    <tr>\n",
       "      <th>2</th>\n",
       "      <td>Male</td>\n",
       "      <td>8-12</td>\n",
       "      <td>23</td>\n",
       "    </tr>\n",
       "    <tr>\n",
       "      <th>3</th>\n",
       "      <td>Male</td>\n",
       "      <td>8-12</td>\n",
       "      <td>23</td>\n",
       "    </tr>\n",
       "    <tr>\n",
       "      <th>4</th>\n",
       "      <td>Male</td>\n",
       "      <td>8-12</td>\n",
       "      <td>23</td>\n",
       "    </tr>\n",
       "  </tbody>\n",
       "</table>\n",
       "</div>"
      ],
      "text/plain": [
       "  Gender   Age  FaceCount\n",
       "0   Male  8-12         23\n",
       "1   Male  8-12         23\n",
       "2   Male  8-12         23\n",
       "3   Male  8-12         23\n",
       "4   Male  8-12         23"
      ]
     },
     "execution_count": 9,
     "metadata": {},
     "output_type": "execute_result"
    }
   ],
   "source": [
    "df.head()"
   ]
  },
  {
   "cell_type": "code",
   "execution_count": 10,
   "id": "b9a41985",
   "metadata": {},
   "outputs": [
    {
     "name": "stdout",
     "output_type": "stream",
     "text": [
      "<class 'pandas.core.frame.DataFrame'>\n",
      "RangeIndex: 808 entries, 0 to 807\n",
      "Data columns (total 3 columns):\n",
      " #   Column     Non-Null Count  Dtype \n",
      "---  ------     --------------  ----- \n",
      " 0   Gender     808 non-null    object\n",
      " 1   Age        808 non-null    object\n",
      " 2   FaceCount  808 non-null    int64 \n",
      "dtypes: int64(1), object(2)\n",
      "memory usage: 19.1+ KB\n"
     ]
    }
   ],
   "source": [
    "df.info()"
   ]
  },
  {
   "cell_type": "code",
   "execution_count": 11,
   "id": "1955da01",
   "metadata": {},
   "outputs": [
    {
     "data": {
      "text/html": [
       "<div>\n",
       "<style scoped>\n",
       "    .dataframe tbody tr th:only-of-type {\n",
       "        vertical-align: middle;\n",
       "    }\n",
       "\n",
       "    .dataframe tbody tr th {\n",
       "        vertical-align: top;\n",
       "    }\n",
       "\n",
       "    .dataframe thead th {\n",
       "        text-align: right;\n",
       "    }\n",
       "</style>\n",
       "<table border=\"1\" class=\"dataframe\">\n",
       "  <thead>\n",
       "    <tr style=\"text-align: right;\">\n",
       "      <th></th>\n",
       "      <th>FaceCount</th>\n",
       "    </tr>\n",
       "  </thead>\n",
       "  <tbody>\n",
       "    <tr>\n",
       "      <th>count</th>\n",
       "      <td>808.000000</td>\n",
       "    </tr>\n",
       "    <tr>\n",
       "      <th>mean</th>\n",
       "      <td>12.915842</td>\n",
       "    </tr>\n",
       "    <tr>\n",
       "      <th>std</th>\n",
       "      <td>10.012154</td>\n",
       "    </tr>\n",
       "    <tr>\n",
       "      <th>min</th>\n",
       "      <td>1.000000</td>\n",
       "    </tr>\n",
       "    <tr>\n",
       "      <th>25%</th>\n",
       "      <td>4.000000</td>\n",
       "    </tr>\n",
       "    <tr>\n",
       "      <th>50%</th>\n",
       "      <td>4.000000</td>\n",
       "    </tr>\n",
       "    <tr>\n",
       "      <th>75%</th>\n",
       "      <td>23.000000</td>\n",
       "    </tr>\n",
       "    <tr>\n",
       "      <th>max</th>\n",
       "      <td>23.000000</td>\n",
       "    </tr>\n",
       "  </tbody>\n",
       "</table>\n",
       "</div>"
      ],
      "text/plain": [
       "        FaceCount\n",
       "count  808.000000\n",
       "mean    12.915842\n",
       "std     10.012154\n",
       "min      1.000000\n",
       "25%      4.000000\n",
       "50%      4.000000\n",
       "75%     23.000000\n",
       "max     23.000000"
      ]
     },
     "execution_count": 11,
     "metadata": {},
     "output_type": "execute_result"
    }
   ],
   "source": [
    "df.describe()"
   ]
  },
  {
   "cell_type": "code",
   "execution_count": 12,
   "id": "3367598d",
   "metadata": {},
   "outputs": [],
   "source": [
    "male = df[df['Gender']=='Male']"
   ]
  },
  {
   "cell_type": "code",
   "execution_count": 13,
   "id": "4b85aaaa",
   "metadata": {},
   "outputs": [
    {
     "data": {
      "text/plain": [
       "(793, 3)"
      ]
     },
     "execution_count": 13,
     "metadata": {},
     "output_type": "execute_result"
    }
   ],
   "source": [
    "male.shape"
   ]
  },
  {
   "cell_type": "code",
   "execution_count": 14,
   "id": "5f225403",
   "metadata": {},
   "outputs": [],
   "source": [
    "female = df[df['Gender']=='Female']"
   ]
  },
  {
   "cell_type": "code",
   "execution_count": 15,
   "id": "c5270913",
   "metadata": {},
   "outputs": [
    {
     "data": {
      "text/html": [
       "<div>\n",
       "<style scoped>\n",
       "    .dataframe tbody tr th:only-of-type {\n",
       "        vertical-align: middle;\n",
       "    }\n",
       "\n",
       "    .dataframe tbody tr th {\n",
       "        vertical-align: top;\n",
       "    }\n",
       "\n",
       "    .dataframe thead th {\n",
       "        text-align: right;\n",
       "    }\n",
       "</style>\n",
       "<table border=\"1\" class=\"dataframe\">\n",
       "  <thead>\n",
       "    <tr style=\"text-align: right;\">\n",
       "      <th></th>\n",
       "      <th>Gender</th>\n",
       "      <th>Age</th>\n",
       "      <th>FaceCount</th>\n",
       "    </tr>\n",
       "  </thead>\n",
       "  <tbody>\n",
       "    <tr>\n",
       "      <th>76</th>\n",
       "      <td>Female</td>\n",
       "      <td>25-32</td>\n",
       "      <td>1</td>\n",
       "    </tr>\n",
       "    <tr>\n",
       "      <th>160</th>\n",
       "      <td>Female</td>\n",
       "      <td>25-32</td>\n",
       "      <td>1</td>\n",
       "    </tr>\n",
       "    <tr>\n",
       "      <th>161</th>\n",
       "      <td>Female</td>\n",
       "      <td>25-32</td>\n",
       "      <td>1</td>\n",
       "    </tr>\n",
       "    <tr>\n",
       "      <th>162</th>\n",
       "      <td>Female</td>\n",
       "      <td>25-32</td>\n",
       "      <td>1</td>\n",
       "    </tr>\n",
       "    <tr>\n",
       "      <th>174</th>\n",
       "      <td>Female</td>\n",
       "      <td>25-32</td>\n",
       "      <td>1</td>\n",
       "    </tr>\n",
       "    <tr>\n",
       "      <th>175</th>\n",
       "      <td>Female</td>\n",
       "      <td>38-43</td>\n",
       "      <td>1</td>\n",
       "    </tr>\n",
       "    <tr>\n",
       "      <th>176</th>\n",
       "      <td>Female</td>\n",
       "      <td>38-43</td>\n",
       "      <td>1</td>\n",
       "    </tr>\n",
       "    <tr>\n",
       "      <th>202</th>\n",
       "      <td>Female</td>\n",
       "      <td>8-12</td>\n",
       "      <td>1</td>\n",
       "    </tr>\n",
       "    <tr>\n",
       "      <th>203</th>\n",
       "      <td>Female</td>\n",
       "      <td>8-12</td>\n",
       "      <td>1</td>\n",
       "    </tr>\n",
       "    <tr>\n",
       "      <th>204</th>\n",
       "      <td>Female</td>\n",
       "      <td>8-12</td>\n",
       "      <td>1</td>\n",
       "    </tr>\n",
       "    <tr>\n",
       "      <th>219</th>\n",
       "      <td>Female</td>\n",
       "      <td>4-6</td>\n",
       "      <td>1</td>\n",
       "    </tr>\n",
       "    <tr>\n",
       "      <th>225</th>\n",
       "      <td>Female</td>\n",
       "      <td>15-20</td>\n",
       "      <td>1</td>\n",
       "    </tr>\n",
       "    <tr>\n",
       "      <th>245</th>\n",
       "      <td>Female</td>\n",
       "      <td>25-32</td>\n",
       "      <td>1</td>\n",
       "    </tr>\n",
       "    <tr>\n",
       "      <th>552</th>\n",
       "      <td>Female</td>\n",
       "      <td>25-32</td>\n",
       "      <td>1</td>\n",
       "    </tr>\n",
       "    <tr>\n",
       "      <th>555</th>\n",
       "      <td>Female</td>\n",
       "      <td>25-32</td>\n",
       "      <td>1</td>\n",
       "    </tr>\n",
       "  </tbody>\n",
       "</table>\n",
       "</div>"
      ],
      "text/plain": [
       "     Gender    Age  FaceCount\n",
       "76   Female  25-32          1\n",
       "160  Female  25-32          1\n",
       "161  Female  25-32          1\n",
       "162  Female  25-32          1\n",
       "174  Female  25-32          1\n",
       "175  Female  38-43          1\n",
       "176  Female  38-43          1\n",
       "202  Female   8-12          1\n",
       "203  Female   8-12          1\n",
       "204  Female   8-12          1\n",
       "219  Female    4-6          1\n",
       "225  Female  15-20          1\n",
       "245  Female  25-32          1\n",
       "552  Female  25-32          1\n",
       "555  Female  25-32          1"
      ]
     },
     "execution_count": 15,
     "metadata": {},
     "output_type": "execute_result"
    }
   ],
   "source": [
    "female"
   ]
  },
  {
   "cell_type": "code",
   "execution_count": 16,
   "id": "408102bc",
   "metadata": {},
   "outputs": [
    {
     "data": {
      "text/plain": [
       "(15, 3)"
      ]
     },
     "execution_count": 16,
     "metadata": {},
     "output_type": "execute_result"
    }
   ],
   "source": [
    "female.shape"
   ]
  },
  {
   "cell_type": "code",
   "execution_count": 17,
   "id": "0493994a",
   "metadata": {},
   "outputs": [],
   "source": [
    "male_age1 = male[male['Age']=='8-12']"
   ]
  },
  {
   "cell_type": "code",
   "execution_count": 18,
   "id": "b1b6afb4",
   "metadata": {},
   "outputs": [
    {
     "data": {
      "text/html": [
       "<div>\n",
       "<style scoped>\n",
       "    .dataframe tbody tr th:only-of-type {\n",
       "        vertical-align: middle;\n",
       "    }\n",
       "\n",
       "    .dataframe tbody tr th {\n",
       "        vertical-align: top;\n",
       "    }\n",
       "\n",
       "    .dataframe thead th {\n",
       "        text-align: right;\n",
       "    }\n",
       "</style>\n",
       "<table border=\"1\" class=\"dataframe\">\n",
       "  <thead>\n",
       "    <tr style=\"text-align: right;\">\n",
       "      <th></th>\n",
       "      <th>Gender</th>\n",
       "      <th>Age</th>\n",
       "      <th>FaceCount</th>\n",
       "    </tr>\n",
       "  </thead>\n",
       "  <tbody>\n",
       "    <tr>\n",
       "      <th>0</th>\n",
       "      <td>Male</td>\n",
       "      <td>8-12</td>\n",
       "      <td>23</td>\n",
       "    </tr>\n",
       "    <tr>\n",
       "      <th>1</th>\n",
       "      <td>Male</td>\n",
       "      <td>8-12</td>\n",
       "      <td>23</td>\n",
       "    </tr>\n",
       "    <tr>\n",
       "      <th>2</th>\n",
       "      <td>Male</td>\n",
       "      <td>8-12</td>\n",
       "      <td>23</td>\n",
       "    </tr>\n",
       "    <tr>\n",
       "      <th>3</th>\n",
       "      <td>Male</td>\n",
       "      <td>8-12</td>\n",
       "      <td>23</td>\n",
       "    </tr>\n",
       "    <tr>\n",
       "      <th>4</th>\n",
       "      <td>Male</td>\n",
       "      <td>8-12</td>\n",
       "      <td>23</td>\n",
       "    </tr>\n",
       "    <tr>\n",
       "      <th>...</th>\n",
       "      <td>...</td>\n",
       "      <td>...</td>\n",
       "      <td>...</td>\n",
       "    </tr>\n",
       "    <tr>\n",
       "      <th>793</th>\n",
       "      <td>Male</td>\n",
       "      <td>8-12</td>\n",
       "      <td>23</td>\n",
       "    </tr>\n",
       "    <tr>\n",
       "      <th>796</th>\n",
       "      <td>Male</td>\n",
       "      <td>8-12</td>\n",
       "      <td>23</td>\n",
       "    </tr>\n",
       "    <tr>\n",
       "      <th>805</th>\n",
       "      <td>Male</td>\n",
       "      <td>8-12</td>\n",
       "      <td>23</td>\n",
       "    </tr>\n",
       "    <tr>\n",
       "      <th>806</th>\n",
       "      <td>Male</td>\n",
       "      <td>8-12</td>\n",
       "      <td>23</td>\n",
       "    </tr>\n",
       "    <tr>\n",
       "      <th>807</th>\n",
       "      <td>Male</td>\n",
       "      <td>8-12</td>\n",
       "      <td>5</td>\n",
       "    </tr>\n",
       "  </tbody>\n",
       "</table>\n",
       "<p>400 rows × 3 columns</p>\n",
       "</div>"
      ],
      "text/plain": [
       "    Gender   Age  FaceCount\n",
       "0     Male  8-12         23\n",
       "1     Male  8-12         23\n",
       "2     Male  8-12         23\n",
       "3     Male  8-12         23\n",
       "4     Male  8-12         23\n",
       "..     ...   ...        ...\n",
       "793   Male  8-12         23\n",
       "796   Male  8-12         23\n",
       "805   Male  8-12         23\n",
       "806   Male  8-12         23\n",
       "807   Male  8-12          5\n",
       "\n",
       "[400 rows x 3 columns]"
      ]
     },
     "execution_count": 18,
     "metadata": {},
     "output_type": "execute_result"
    }
   ],
   "source": [
    "male_age1"
   ]
  },
  {
   "cell_type": "code",
   "execution_count": 19,
   "id": "469e55ca",
   "metadata": {},
   "outputs": [
    {
     "data": {
      "text/plain": [
       "(400, 3)"
      ]
     },
     "execution_count": 19,
     "metadata": {},
     "output_type": "execute_result"
    }
   ],
   "source": [
    "male_age1.shape"
   ]
  },
  {
   "cell_type": "code",
   "execution_count": 20,
   "id": "e8d2d7bc",
   "metadata": {},
   "outputs": [],
   "source": [
    "male_age2 = male[male['Age']=='25-32']"
   ]
  },
  {
   "cell_type": "code",
   "execution_count": 21,
   "id": "a1dcfa86",
   "metadata": {},
   "outputs": [
    {
     "data": {
      "text/html": [
       "<div>\n",
       "<style scoped>\n",
       "    .dataframe tbody tr th:only-of-type {\n",
       "        vertical-align: middle;\n",
       "    }\n",
       "\n",
       "    .dataframe tbody tr th {\n",
       "        vertical-align: top;\n",
       "    }\n",
       "\n",
       "    .dataframe thead th {\n",
       "        text-align: right;\n",
       "    }\n",
       "</style>\n",
       "<table border=\"1\" class=\"dataframe\">\n",
       "  <thead>\n",
       "    <tr style=\"text-align: right;\">\n",
       "      <th></th>\n",
       "      <th>Gender</th>\n",
       "      <th>Age</th>\n",
       "      <th>FaceCount</th>\n",
       "    </tr>\n",
       "  </thead>\n",
       "  <tbody>\n",
       "    <tr>\n",
       "      <th>48</th>\n",
       "      <td>Male</td>\n",
       "      <td>25-32</td>\n",
       "      <td>4</td>\n",
       "    </tr>\n",
       "    <tr>\n",
       "      <th>49</th>\n",
       "      <td>Male</td>\n",
       "      <td>25-32</td>\n",
       "      <td>4</td>\n",
       "    </tr>\n",
       "    <tr>\n",
       "      <th>70</th>\n",
       "      <td>Male</td>\n",
       "      <td>25-32</td>\n",
       "      <td>4</td>\n",
       "    </tr>\n",
       "    <tr>\n",
       "      <th>71</th>\n",
       "      <td>Male</td>\n",
       "      <td>25-32</td>\n",
       "      <td>4</td>\n",
       "    </tr>\n",
       "    <tr>\n",
       "      <th>72</th>\n",
       "      <td>Male</td>\n",
       "      <td>25-32</td>\n",
       "      <td>4</td>\n",
       "    </tr>\n",
       "    <tr>\n",
       "      <th>...</th>\n",
       "      <td>...</td>\n",
       "      <td>...</td>\n",
       "      <td>...</td>\n",
       "    </tr>\n",
       "    <tr>\n",
       "      <th>671</th>\n",
       "      <td>Male</td>\n",
       "      <td>25-32</td>\n",
       "      <td>4</td>\n",
       "    </tr>\n",
       "    <tr>\n",
       "      <th>672</th>\n",
       "      <td>Male</td>\n",
       "      <td>25-32</td>\n",
       "      <td>4</td>\n",
       "    </tr>\n",
       "    <tr>\n",
       "      <th>673</th>\n",
       "      <td>Male</td>\n",
       "      <td>25-32</td>\n",
       "      <td>4</td>\n",
       "    </tr>\n",
       "    <tr>\n",
       "      <th>802</th>\n",
       "      <td>Male</td>\n",
       "      <td>25-32</td>\n",
       "      <td>4</td>\n",
       "    </tr>\n",
       "    <tr>\n",
       "      <th>803</th>\n",
       "      <td>Male</td>\n",
       "      <td>25-32</td>\n",
       "      <td>4</td>\n",
       "    </tr>\n",
       "  </tbody>\n",
       "</table>\n",
       "<p>274 rows × 3 columns</p>\n",
       "</div>"
      ],
      "text/plain": [
       "    Gender    Age  FaceCount\n",
       "48    Male  25-32          4\n",
       "49    Male  25-32          4\n",
       "70    Male  25-32          4\n",
       "71    Male  25-32          4\n",
       "72    Male  25-32          4\n",
       "..     ...    ...        ...\n",
       "671   Male  25-32          4\n",
       "672   Male  25-32          4\n",
       "673   Male  25-32          4\n",
       "802   Male  25-32          4\n",
       "803   Male  25-32          4\n",
       "\n",
       "[274 rows x 3 columns]"
      ]
     },
     "execution_count": 21,
     "metadata": {},
     "output_type": "execute_result"
    }
   ],
   "source": [
    "male_age2"
   ]
  },
  {
   "cell_type": "code",
   "execution_count": 22,
   "id": "17ba3a35",
   "metadata": {},
   "outputs": [
    {
     "data": {
      "text/plain": [
       "(274, 3)"
      ]
     },
     "execution_count": 22,
     "metadata": {},
     "output_type": "execute_result"
    }
   ],
   "source": [
    "male_age2.shape"
   ]
  },
  {
   "cell_type": "code",
   "execution_count": 23,
   "id": "79cedd88",
   "metadata": {},
   "outputs": [],
   "source": [
    "male_age3 = male[male['Age']=='38-43']"
   ]
  },
  {
   "cell_type": "code",
   "execution_count": 24,
   "id": "2a32ed91",
   "metadata": {},
   "outputs": [
    {
     "data": {
      "text/html": [
       "<div>\n",
       "<style scoped>\n",
       "    .dataframe tbody tr th:only-of-type {\n",
       "        vertical-align: middle;\n",
       "    }\n",
       "\n",
       "    .dataframe tbody tr th {\n",
       "        vertical-align: top;\n",
       "    }\n",
       "\n",
       "    .dataframe thead th {\n",
       "        text-align: right;\n",
       "    }\n",
       "</style>\n",
       "<table border=\"1\" class=\"dataframe\">\n",
       "  <thead>\n",
       "    <tr style=\"text-align: right;\">\n",
       "      <th></th>\n",
       "      <th>Gender</th>\n",
       "      <th>Age</th>\n",
       "      <th>FaceCount</th>\n",
       "    </tr>\n",
       "  </thead>\n",
       "  <tbody>\n",
       "    <tr>\n",
       "      <th>180</th>\n",
       "      <td>Male</td>\n",
       "      <td>38-43</td>\n",
       "      <td>1</td>\n",
       "    </tr>\n",
       "    <tr>\n",
       "      <th>567</th>\n",
       "      <td>Male</td>\n",
       "      <td>38-43</td>\n",
       "      <td>1</td>\n",
       "    </tr>\n",
       "    <tr>\n",
       "      <th>590</th>\n",
       "      <td>Male</td>\n",
       "      <td>38-43</td>\n",
       "      <td>1</td>\n",
       "    </tr>\n",
       "    <tr>\n",
       "      <th>591</th>\n",
       "      <td>Male</td>\n",
       "      <td>38-43</td>\n",
       "      <td>1</td>\n",
       "    </tr>\n",
       "    <tr>\n",
       "      <th>610</th>\n",
       "      <td>Male</td>\n",
       "      <td>38-43</td>\n",
       "      <td>1</td>\n",
       "    </tr>\n",
       "    <tr>\n",
       "      <th>611</th>\n",
       "      <td>Male</td>\n",
       "      <td>38-43</td>\n",
       "      <td>1</td>\n",
       "    </tr>\n",
       "    <tr>\n",
       "      <th>804</th>\n",
       "      <td>Male</td>\n",
       "      <td>38-43</td>\n",
       "      <td>1</td>\n",
       "    </tr>\n",
       "  </tbody>\n",
       "</table>\n",
       "</div>"
      ],
      "text/plain": [
       "    Gender    Age  FaceCount\n",
       "180   Male  38-43          1\n",
       "567   Male  38-43          1\n",
       "590   Male  38-43          1\n",
       "591   Male  38-43          1\n",
       "610   Male  38-43          1\n",
       "611   Male  38-43          1\n",
       "804   Male  38-43          1"
      ]
     },
     "execution_count": 24,
     "metadata": {},
     "output_type": "execute_result"
    }
   ],
   "source": [
    "male_age3"
   ]
  },
  {
   "cell_type": "code",
   "execution_count": 25,
   "id": "a75f56b8",
   "metadata": {},
   "outputs": [
    {
     "data": {
      "text/plain": [
       "(7, 3)"
      ]
     },
     "execution_count": 25,
     "metadata": {},
     "output_type": "execute_result"
    }
   ],
   "source": [
    "male_age3.shape"
   ]
  },
  {
   "cell_type": "code",
   "execution_count": 26,
   "id": "2aa46c45",
   "metadata": {},
   "outputs": [],
   "source": [
    "male_age4 = male[male['Age']=='4-6']"
   ]
  },
  {
   "cell_type": "code",
   "execution_count": 27,
   "id": "b67b3dd3",
   "metadata": {},
   "outputs": [
    {
     "data": {
      "text/html": [
       "<div>\n",
       "<style scoped>\n",
       "    .dataframe tbody tr th:only-of-type {\n",
       "        vertical-align: middle;\n",
       "    }\n",
       "\n",
       "    .dataframe tbody tr th {\n",
       "        vertical-align: top;\n",
       "    }\n",
       "\n",
       "    .dataframe thead th {\n",
       "        text-align: right;\n",
       "    }\n",
       "</style>\n",
       "<table border=\"1\" class=\"dataframe\">\n",
       "  <thead>\n",
       "    <tr style=\"text-align: right;\">\n",
       "      <th></th>\n",
       "      <th>Gender</th>\n",
       "      <th>Age</th>\n",
       "      <th>FaceCount</th>\n",
       "    </tr>\n",
       "  </thead>\n",
       "  <tbody>\n",
       "    <tr>\n",
       "      <th>214</th>\n",
       "      <td>Male</td>\n",
       "      <td>4-6</td>\n",
       "      <td>2</td>\n",
       "    </tr>\n",
       "    <tr>\n",
       "      <th>215</th>\n",
       "      <td>Male</td>\n",
       "      <td>4-6</td>\n",
       "      <td>2</td>\n",
       "    </tr>\n",
       "    <tr>\n",
       "      <th>216</th>\n",
       "      <td>Male</td>\n",
       "      <td>4-6</td>\n",
       "      <td>2</td>\n",
       "    </tr>\n",
       "    <tr>\n",
       "      <th>217</th>\n",
       "      <td>Male</td>\n",
       "      <td>4-6</td>\n",
       "      <td>2</td>\n",
       "    </tr>\n",
       "    <tr>\n",
       "      <th>218</th>\n",
       "      <td>Male</td>\n",
       "      <td>4-6</td>\n",
       "      <td>2</td>\n",
       "    </tr>\n",
       "    <tr>\n",
       "      <th>222</th>\n",
       "      <td>Male</td>\n",
       "      <td>4-6</td>\n",
       "      <td>2</td>\n",
       "    </tr>\n",
       "    <tr>\n",
       "      <th>223</th>\n",
       "      <td>Male</td>\n",
       "      <td>4-6</td>\n",
       "      <td>2</td>\n",
       "    </tr>\n",
       "    <tr>\n",
       "      <th>224</th>\n",
       "      <td>Male</td>\n",
       "      <td>4-6</td>\n",
       "      <td>2</td>\n",
       "    </tr>\n",
       "    <tr>\n",
       "      <th>231</th>\n",
       "      <td>Male</td>\n",
       "      <td>4-6</td>\n",
       "      <td>2</td>\n",
       "    </tr>\n",
       "    <tr>\n",
       "      <th>233</th>\n",
       "      <td>Male</td>\n",
       "      <td>4-6</td>\n",
       "      <td>2</td>\n",
       "    </tr>\n",
       "    <tr>\n",
       "      <th>234</th>\n",
       "      <td>Male</td>\n",
       "      <td>4-6</td>\n",
       "      <td>2</td>\n",
       "    </tr>\n",
       "    <tr>\n",
       "      <th>241</th>\n",
       "      <td>Male</td>\n",
       "      <td>4-6</td>\n",
       "      <td>2</td>\n",
       "    </tr>\n",
       "    <tr>\n",
       "      <th>246</th>\n",
       "      <td>Male</td>\n",
       "      <td>4-6</td>\n",
       "      <td>2</td>\n",
       "    </tr>\n",
       "    <tr>\n",
       "      <th>258</th>\n",
       "      <td>Male</td>\n",
       "      <td>4-6</td>\n",
       "      <td>2</td>\n",
       "    </tr>\n",
       "    <tr>\n",
       "      <th>259</th>\n",
       "      <td>Male</td>\n",
       "      <td>4-6</td>\n",
       "      <td>2</td>\n",
       "    </tr>\n",
       "    <tr>\n",
       "      <th>260</th>\n",
       "      <td>Male</td>\n",
       "      <td>4-6</td>\n",
       "      <td>2</td>\n",
       "    </tr>\n",
       "    <tr>\n",
       "      <th>261</th>\n",
       "      <td>Male</td>\n",
       "      <td>4-6</td>\n",
       "      <td>2</td>\n",
       "    </tr>\n",
       "    <tr>\n",
       "      <th>305</th>\n",
       "      <td>Male</td>\n",
       "      <td>4-6</td>\n",
       "      <td>2</td>\n",
       "    </tr>\n",
       "    <tr>\n",
       "      <th>312</th>\n",
       "      <td>Male</td>\n",
       "      <td>4-6</td>\n",
       "      <td>2</td>\n",
       "    </tr>\n",
       "    <tr>\n",
       "      <th>316</th>\n",
       "      <td>Male</td>\n",
       "      <td>4-6</td>\n",
       "      <td>2</td>\n",
       "    </tr>\n",
       "    <tr>\n",
       "      <th>317</th>\n",
       "      <td>Male</td>\n",
       "      <td>4-6</td>\n",
       "      <td>2</td>\n",
       "    </tr>\n",
       "    <tr>\n",
       "      <th>318</th>\n",
       "      <td>Male</td>\n",
       "      <td>4-6</td>\n",
       "      <td>2</td>\n",
       "    </tr>\n",
       "    <tr>\n",
       "      <th>322</th>\n",
       "      <td>Male</td>\n",
       "      <td>4-6</td>\n",
       "      <td>2</td>\n",
       "    </tr>\n",
       "    <tr>\n",
       "      <th>326</th>\n",
       "      <td>Male</td>\n",
       "      <td>4-6</td>\n",
       "      <td>2</td>\n",
       "    </tr>\n",
       "  </tbody>\n",
       "</table>\n",
       "</div>"
      ],
      "text/plain": [
       "    Gender  Age  FaceCount\n",
       "214   Male  4-6          2\n",
       "215   Male  4-6          2\n",
       "216   Male  4-6          2\n",
       "217   Male  4-6          2\n",
       "218   Male  4-6          2\n",
       "222   Male  4-6          2\n",
       "223   Male  4-6          2\n",
       "224   Male  4-6          2\n",
       "231   Male  4-6          2\n",
       "233   Male  4-6          2\n",
       "234   Male  4-6          2\n",
       "241   Male  4-6          2\n",
       "246   Male  4-6          2\n",
       "258   Male  4-6          2\n",
       "259   Male  4-6          2\n",
       "260   Male  4-6          2\n",
       "261   Male  4-6          2\n",
       "305   Male  4-6          2\n",
       "312   Male  4-6          2\n",
       "316   Male  4-6          2\n",
       "317   Male  4-6          2\n",
       "318   Male  4-6          2\n",
       "322   Male  4-6          2\n",
       "326   Male  4-6          2"
      ]
     },
     "execution_count": 27,
     "metadata": {},
     "output_type": "execute_result"
    }
   ],
   "source": [
    "male_age4"
   ]
  },
  {
   "cell_type": "code",
   "execution_count": 28,
   "id": "41758c7d",
   "metadata": {},
   "outputs": [
    {
     "data": {
      "text/plain": [
       "(24, 3)"
      ]
     },
     "execution_count": 28,
     "metadata": {},
     "output_type": "execute_result"
    }
   ],
   "source": [
    "male_age4.shape"
   ]
  },
  {
   "cell_type": "code",
   "execution_count": 29,
   "id": "abec70fa",
   "metadata": {},
   "outputs": [
    {
     "data": {
      "text/plain": [
       "{'0-2', '15-20', '25-32', '38-43', '4-6', '60-100', '8-12'}"
      ]
     },
     "execution_count": 29,
     "metadata": {},
     "output_type": "execute_result"
    }
   ],
   "source": [
    "set(df['Age'])"
   ]
  },
  {
   "cell_type": "code",
   "execution_count": 30,
   "id": "6b032229",
   "metadata": {},
   "outputs": [],
   "source": [
    "male_age5 = male[male['Age']=='0-2']"
   ]
  },
  {
   "cell_type": "code",
   "execution_count": 31,
   "id": "4fe86f00",
   "metadata": {},
   "outputs": [
    {
     "data": {
      "text/plain": [
       "(3, 3)"
      ]
     },
     "execution_count": 31,
     "metadata": {},
     "output_type": "execute_result"
    }
   ],
   "source": [
    "male_age5.shape"
   ]
  },
  {
   "cell_type": "code",
   "execution_count": 32,
   "id": "884df620",
   "metadata": {},
   "outputs": [],
   "source": [
    "male_age6 = male[male['Age']=='15-20']"
   ]
  },
  {
   "cell_type": "code",
   "execution_count": 33,
   "id": "70138da1",
   "metadata": {},
   "outputs": [
    {
     "data": {
      "text/plain": [
       "(84, 3)"
      ]
     },
     "execution_count": 33,
     "metadata": {},
     "output_type": "execute_result"
    }
   ],
   "source": [
    "male_age6.shape"
   ]
  },
  {
   "cell_type": "code",
   "execution_count": 34,
   "id": "183b4790",
   "metadata": {},
   "outputs": [],
   "source": [
    "male_age7 = male[male['Age']=='60-100']"
   ]
  },
  {
   "cell_type": "code",
   "execution_count": 35,
   "id": "902a8f32",
   "metadata": {},
   "outputs": [
    {
     "data": {
      "text/plain": [
       "(1, 3)"
      ]
     },
     "execution_count": 35,
     "metadata": {},
     "output_type": "execute_result"
    }
   ],
   "source": [
    "male_age7.shape"
   ]
  },
  {
   "cell_type": "code",
   "execution_count": 36,
   "id": "09389732",
   "metadata": {},
   "outputs": [],
   "source": [
    "female_age1 = female[female['Age']=='4-6']"
   ]
  },
  {
   "cell_type": "code",
   "execution_count": 37,
   "id": "fb03f584",
   "metadata": {},
   "outputs": [
    {
     "data": {
      "text/plain": [
       "(1, 3)"
      ]
     },
     "execution_count": 37,
     "metadata": {},
     "output_type": "execute_result"
    }
   ],
   "source": [
    "female_age1.shape"
   ]
  },
  {
   "cell_type": "code",
   "execution_count": 38,
   "id": "04ef5b7e",
   "metadata": {},
   "outputs": [],
   "source": [
    "female_age2 = female[female['Age']=='8-12']"
   ]
  },
  {
   "cell_type": "code",
   "execution_count": 39,
   "id": "b13fad06",
   "metadata": {},
   "outputs": [
    {
     "data": {
      "text/plain": [
       "(3, 3)"
      ]
     },
     "execution_count": 39,
     "metadata": {},
     "output_type": "execute_result"
    }
   ],
   "source": [
    "female_age2.shape"
   ]
  },
  {
   "cell_type": "code",
   "execution_count": 40,
   "id": "4ba28173",
   "metadata": {},
   "outputs": [],
   "source": [
    "female_age3 = female[female['Age']=='15-20']"
   ]
  },
  {
   "cell_type": "code",
   "execution_count": 41,
   "id": "12b5072f",
   "metadata": {},
   "outputs": [
    {
     "data": {
      "text/plain": [
       "(1, 3)"
      ]
     },
     "execution_count": 41,
     "metadata": {},
     "output_type": "execute_result"
    }
   ],
   "source": [
    "female_age3.shape"
   ]
  },
  {
   "cell_type": "code",
   "execution_count": 42,
   "id": "b7cbc157",
   "metadata": {},
   "outputs": [],
   "source": [
    "female_age4 = female[female['Age']=='25-32']"
   ]
  },
  {
   "cell_type": "code",
   "execution_count": 43,
   "id": "a77111c3",
   "metadata": {},
   "outputs": [
    {
     "data": {
      "text/plain": [
       "(8, 3)"
      ]
     },
     "execution_count": 43,
     "metadata": {},
     "output_type": "execute_result"
    }
   ],
   "source": [
    "female_age4.shape"
   ]
  },
  {
   "cell_type": "code",
   "execution_count": 44,
   "id": "4c1dbfe1",
   "metadata": {},
   "outputs": [],
   "source": [
    "female_age6 = female[female['Age']=='0-2']"
   ]
  },
  {
   "cell_type": "code",
   "execution_count": 45,
   "id": "ef700e84",
   "metadata": {},
   "outputs": [
    {
     "data": {
      "text/plain": [
       "(0, 3)"
      ]
     },
     "execution_count": 45,
     "metadata": {},
     "output_type": "execute_result"
    }
   ],
   "source": [
    "female_age6.shape"
   ]
  },
  {
   "cell_type": "code",
   "execution_count": 46,
   "id": "9d827dee",
   "metadata": {},
   "outputs": [],
   "source": [
    "female_age7 = female[female['Age']=='60-100']"
   ]
  },
  {
   "cell_type": "code",
   "execution_count": 47,
   "id": "75c6e7fb",
   "metadata": {},
   "outputs": [
    {
     "data": {
      "text/plain": [
       "(0, 3)"
      ]
     },
     "execution_count": 47,
     "metadata": {},
     "output_type": "execute_result"
    }
   ],
   "source": [
    "female_age7.shape"
   ]
  },
  {
   "cell_type": "code",
   "execution_count": 48,
   "id": "68c24ebb",
   "metadata": {},
   "outputs": [
    {
     "data": {
      "text/plain": [
       "<BarContainer object of 808 artists>"
      ]
     },
     "execution_count": 48,
     "metadata": {},
     "output_type": "execute_result"
    },
    {
     "data": {
      "image/png": "[encoded data removed]",
      "text/plain": [
       "<Figure size 640x480 with 1 Axes>"
      ]
     },
     "metadata": {},
     "output_type": "display_data"
    }
   ],
   "source": [
    "plt.bar(df['Gender'],df['Age'])"
   ]
  },
  {
   "cell_type": "code",
   "execution_count": 49,
   "id": "01e09d2c",
   "metadata": {},
   "outputs": [],
   "source": [
    "def check(n):\n",
    "    if '0-2' in df['Age']:\n",
    "        print('2')\n",
    "    "
   ]
  },
  {
   "cell_type": "code",
   "execution_count": 50,
   "id": "606628d1",
   "metadata": {},
   "outputs": [
    {
     "data": {
      "text/plain": [
       "{1, 2, 4, 5, 23}"
      ]
     },
     "execution_count": 50,
     "metadata": {},
     "output_type": "execute_result"
    }
   ],
   "source": [
    "set(df['FaceCount'])"
   ]
  },
  {
   "cell_type": "code",
   "execution_count": 51,
   "id": "3c84253d",
   "metadata": {},
   "outputs": [],
   "source": [
    "Age = list(df['Age'])"
   ]
  },
  {
   "cell_type": "code",
   "execution_count": 52,
   "id": "920ab5e4",
   "metadata": {},
   "outputs": [],
   "source": [
    "Gender = df['Gender']"
   ]
  },
  {
   "cell_type": "code",
   "execution_count": 53,
   "id": "68456fda",
   "metadata": {},
   "outputs": [],
   "source": [
    "if '0-2' in df['Age']:\n",
    "    print(mean(1,2))\n",
    "elif '15-20' in  df['Age']:\n",
    "    print(mean(15,20))\n",
    "elif '25-30' in  df['Age']:\n",
    "    print(mean(25,30))\n",
    "elif '38-43' in  df['Age']:\n",
    "    print(mean(38,43))\n",
    "elif '4-6' in  df['Age']:\n",
    "    print(mean(4,6))\n",
    "elif '60-100' in  df['Age']:\n",
    "    print(mean(60,100))\n",
    "elif '8-12' in  df['Age']:\n",
    "    print(mean(8,12))"
   ]
  },
  {
   "cell_type": "code",
   "execution_count": 54,
   "id": "bcebea0b",
   "metadata": {},
   "outputs": [
    {
     "data": {
      "text/plain": [
       "0       8-12\n",
       "1       8-12\n",
       "2       8-12\n",
       "3       8-12\n",
       "4       8-12\n",
       "       ...  \n",
       "803    25-32\n",
       "804    38-43\n",
       "805     8-12\n",
       "806     8-12\n",
       "807     8-12\n",
       "Name: Age, Length: 808, dtype: object"
      ]
     },
     "execution_count": 54,
     "metadata": {},
     "output_type": "execute_result"
    }
   ],
   "source": [
    "df['Age']"
   ]
  },
  {
   "cell_type": "code",
   "execution_count": 55,
   "id": "f509bcf7",
   "metadata": {},
   "outputs": [
    {
     "name": "stdout",
     "output_type": "stream",
     "text": [
      "\n",
      "DataFrame after Label Encoding:\n",
      "    Gender    Age  FaceCount  Age_int\n",
      "0     Male   8-12         23        6\n",
      "1     Male   8-12         23        6\n",
      "2     Male   8-12         23        6\n",
      "3     Male   8-12         23        6\n",
      "4     Male   8-12         23        6\n",
      "..     ...    ...        ...      ...\n",
      "803   Male  25-32          4        2\n",
      "804   Male  38-43          1        3\n",
      "805   Male   8-12         23        6\n",
      "806   Male   8-12         23        6\n",
      "807   Male   8-12          5        6\n",
      "\n",
      "[808 rows x 4 columns]\n",
      "\n",
      "Label Mapping:\n",
      "{'0-2': 0, '15-20': 1, '25-32': 2, '38-43': 3, '4-6': 4, '60-100': 5, '8-12': 6}\n"
     ]
    }
   ],
   "source": [
    "from sklearn.preprocessing import LabelEncoder\n",
    "\n",
    "# Create a LabelEncoder object\n",
    "label_encoder = LabelEncoder()\n",
    "\n",
    "df['Age_int'] = label_encoder.fit_transform(df['Age'])\n",
    "\n",
    "print(\"\\nDataFrame after Label Encoding:\")\n",
    "print(df)\n",
    "\n",
    "label_mapping = dict(zip(label_encoder.classes_, label_encoder.transform(label_encoder.classes_)))\n",
    "print(\"\\nLabel Mapping:\")\n",
    "print(label_mapping)\n"
   ]
  },
  {
   "cell_type": "code",
   "execution_count": 56,
   "id": "1085399b",
   "metadata": {},
   "outputs": [
    {
     "name": "stdout",
     "output_type": "stream",
     "text": [
      "\n",
      "DataFrame after Label Encoding:\n",
      "    Gender    Age  FaceCount  Male_Age\n",
      "0     Male   8-12         23         6\n",
      "1     Male   8-12         23         6\n",
      "2     Male   8-12         23         6\n",
      "3     Male   8-12         23         6\n",
      "4     Male   8-12         23         6\n",
      "..     ...    ...        ...       ...\n",
      "803   Male  25-32          4         2\n",
      "804   Male  38-43          1         3\n",
      "805   Male   8-12         23         6\n",
      "806   Male   8-12         23         6\n",
      "807   Male   8-12          5         6\n",
      "\n",
      "[793 rows x 4 columns]\n"
     ]
    },
    {
     "name": "stderr",
     "output_type": "stream",
     "text": [
      "C:\\Users\\Gowtham R\\AppData\\Local\\Temp\\ipykernel_15252\\2437132345.py:3: SettingWithCopyWarning: \n",
      "A value is trying to be set on a copy of a slice from a DataFrame.\n",
      "Try using .loc[row_indexer,col_indexer] = value instead\n",
      "\n",
      "See the caveats in the documentation: https://pandas.pydata.org/pandas-docs/stable/user_guide/indexing.html#returning-a-view-versus-a-copy\n",
      "  male['Male_Age'] = label_encoder.fit_transform(male['Age'])\n"
     ]
    }
   ],
   "source": [
    "label_encoder = LabelEncoder()\n",
    "\n",
    "male['Male_Age'] = label_encoder.fit_transform(male['Age'])\n",
    "\n",
    "print(\"\\nDataFrame after Label Encoding:\")\n",
    "print(male)"
   ]
  },
  {
   "cell_type": "code",
   "execution_count": 57,
   "id": "8ce16051",
   "metadata": {},
   "outputs": [
    {
     "name": "stdout",
     "output_type": "stream",
     "text": [
      "\n",
      "DataFrame after Label Encoding:\n",
      "     Gender    Age  FaceCount  Female_Age\n",
      "76   Female  25-32          1           1\n",
      "160  Female  25-32          1           1\n",
      "161  Female  25-32          1           1\n",
      "162  Female  25-32          1           1\n",
      "174  Female  25-32          1           1\n",
      "175  Female  38-43          1           2\n",
      "176  Female  38-43          1           2\n",
      "202  Female   8-12          1           4\n",
      "203  Female   8-12          1           4\n",
      "204  Female   8-12          1           4\n",
      "219  Female    4-6          1           3\n",
      "225  Female  15-20          1           0\n",
      "245  Female  25-32          1           1\n",
      "552  Female  25-32          1           1\n",
      "555  Female  25-32          1           1\n"
     ]
    },
    {
     "name": "stderr",
     "output_type": "stream",
     "text": [
      "C:\\Users\\Gowtham R\\AppData\\Local\\Temp\\ipykernel_15252\\766628988.py:3: SettingWithCopyWarning: \n",
      "A value is trying to be set on a copy of a slice from a DataFrame.\n",
      "Try using .loc[row_indexer,col_indexer] = value instead\n",
      "\n",
      "See the caveats in the documentation: https://pandas.pydata.org/pandas-docs/stable/user_guide/indexing.html#returning-a-view-versus-a-copy\n",
      "  female['Female_Age'] = label_encoder.fit_transform(female['Age'])\n"
     ]
    }
   ],
   "source": [
    "label_encoder = LabelEncoder()\n",
    "\n",
    "female['Female_Age'] = label_encoder.fit_transform(female['Age'])\n",
    "\n",
    "print(\"\\nDataFrame after Label Encoding:\")\n",
    "print(female)"
   ]
  },
  {
   "cell_type": "code",
   "execution_count": 58,
   "id": "612a238d",
   "metadata": {},
   "outputs": [
    {
     "data": {
      "text/plain": [
       "{0, 1, 2, 3, 4, 5, 6}"
      ]
     },
     "execution_count": 58,
     "metadata": {},
     "output_type": "execute_result"
    }
   ],
   "source": [
    "set(df['Age_int'])"
   ]
  },
  {
   "cell_type": "code",
   "execution_count": 59,
   "id": "8d8691a8",
   "metadata": {},
   "outputs": [
    {
     "data": {
      "text/plain": [
       "{'0-2', '15-20', '25-32', '38-43', '4-6', '60-100', '8-12'}"
      ]
     },
     "execution_count": 59,
     "metadata": {},
     "output_type": "execute_result"
    }
   ],
   "source": [
    "set(df['Age'])"
   ]
  },
  {
   "cell_type": "code",
   "execution_count": 60,
   "id": "71640ee9",
   "metadata": {},
   "outputs": [
    {
     "data": {
      "image/png": "[encoded data removed]",
      "text/plain": [
       "<Figure size 1000x600 with 1 Axes>"
      ]
     },
     "metadata": {},
     "output_type": "display_data"
    }
   ],
   "source": [
    "plt.figure(figsize=(10, 6))\n",
    "sns.barplot(x=df['Gender'], y=df['Age_int'], hue=df['Age_int'], data=df)\n",
    "plt.grid()"
   ]
  },
  {
   "cell_type": "code",
   "execution_count": 61,
   "id": "8cf2a7a1",
   "metadata": {},
   "outputs": [
    {
     "data": {
      "image/png": "[encoded data removed]",
      "text/plain": [
       "<Figure size 640x480 with 1 Axes>"
      ]
     },
     "metadata": {},
     "output_type": "display_data"
    }
   ],
   "source": [
    "plt.plot(male['Male_Age'],label = \"Male\",linestyle = 'dotted',marker = \"o\")\n",
    "plt.plot(female['Female_Age'],label = \"Female\",marker = 'd')\n",
    "plt.legend()\n",
    "plt.grid()"
   ]
  },
  {
   "cell_type": "code",
   "execution_count": 62,
   "id": "dc0434be",
   "metadata": {},
   "outputs": [
    {
     "data": {
      "text/plain": [
       "{'0-2', '15-20', '25-32', '38-43', '4-6', '60-100', '8-12'}"
      ]
     },
     "execution_count": 62,
     "metadata": {},
     "output_type": "execute_result"
    }
   ],
   "source": [
    "set(df['Age'])"
   ]
  },
  {
   "cell_type": "code",
   "execution_count": null,
   "id": "7cd50a4f",
   "metadata": {},
   "outputs": [],
   "source": []
  }
 ],
 "metadata": {
  "kernelspec": {
   "display_name": "Python 3 (ipykernel)",
   "language": "python",
   "name": "python3"
  },
  "language_info": {
   "codemirror_mode": {
    "name": "ipython",
    "version": 3
   },
   "file_extension": ".py",
   "mimetype": "text/x-python",
   "name": "python",
   "nbconvert_exporter": "python",
   "pygments_lexer": "ipython3",
   "version": "3.11.9"
  }
 },
 "nbformat": 4,
 "nbformat_minor": 5
}
